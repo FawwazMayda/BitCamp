{
 "cells": [
  {
   "cell_type": "code",
   "execution_count": 2,
   "metadata": {
    "collapsed": true
   },
   "outputs": [],
   "source": [
    "import pandas as pd\n",
    "import numpy as np"
   ]
  },
  {
   "cell_type": "code",
   "execution_count": 3,
   "metadata": {
    "collapsed": true
   },
   "outputs": [],
   "source": [
    "df = pd.read_csv('googleplaystore_user_reviews.csv')"
   ]
  },
  {
   "cell_type": "code",
   "execution_count": 4,
   "metadata": {
    "collapsed": false
   },
   "outputs": [
    {
     "data": {
      "text/html": [
       "<div>\n",
       "<table border=\"1\" class=\"dataframe\">\n",
       "  <thead>\n",
       "    <tr style=\"text-align: right;\">\n",
       "      <th></th>\n",
       "      <th>App</th>\n",
       "      <th>Translated_Review</th>\n",
       "      <th>Sentiment</th>\n",
       "      <th>Sentiment_Polarity</th>\n",
       "      <th>Sentiment_Subjectivity</th>\n",
       "    </tr>\n",
       "  </thead>\n",
       "  <tbody>\n",
       "    <tr>\n",
       "      <th>0</th>\n",
       "      <td>10 Best Foods for You</td>\n",
       "      <td>I like eat delicious food. That's I'm cooking ...</td>\n",
       "      <td>Positive</td>\n",
       "      <td>1.000000</td>\n",
       "      <td>0.533333</td>\n",
       "    </tr>\n",
       "    <tr>\n",
       "      <th>1</th>\n",
       "      <td>10 Best Foods for You</td>\n",
       "      <td>This help eating healthy exercise regular basis</td>\n",
       "      <td>Positive</td>\n",
       "      <td>0.250000</td>\n",
       "      <td>0.288462</td>\n",
       "    </tr>\n",
       "    <tr>\n",
       "      <th>2</th>\n",
       "      <td>10 Best Foods for You</td>\n",
       "      <td>NaN</td>\n",
       "      <td>NaN</td>\n",
       "      <td>NaN</td>\n",
       "      <td>NaN</td>\n",
       "    </tr>\n",
       "    <tr>\n",
       "      <th>3</th>\n",
       "      <td>10 Best Foods for You</td>\n",
       "      <td>Works great especially going grocery store</td>\n",
       "      <td>Positive</td>\n",
       "      <td>0.400000</td>\n",
       "      <td>0.875000</td>\n",
       "    </tr>\n",
       "    <tr>\n",
       "      <th>4</th>\n",
       "      <td>10 Best Foods for You</td>\n",
       "      <td>Best idea us</td>\n",
       "      <td>Positive</td>\n",
       "      <td>1.000000</td>\n",
       "      <td>0.300000</td>\n",
       "    </tr>\n",
       "    <tr>\n",
       "      <th>5</th>\n",
       "      <td>10 Best Foods for You</td>\n",
       "      <td>Best way</td>\n",
       "      <td>Positive</td>\n",
       "      <td>1.000000</td>\n",
       "      <td>0.300000</td>\n",
       "    </tr>\n",
       "    <tr>\n",
       "      <th>6</th>\n",
       "      <td>10 Best Foods for You</td>\n",
       "      <td>Amazing</td>\n",
       "      <td>Positive</td>\n",
       "      <td>0.600000</td>\n",
       "      <td>0.900000</td>\n",
       "    </tr>\n",
       "    <tr>\n",
       "      <th>7</th>\n",
       "      <td>10 Best Foods for You</td>\n",
       "      <td>NaN</td>\n",
       "      <td>NaN</td>\n",
       "      <td>NaN</td>\n",
       "      <td>NaN</td>\n",
       "    </tr>\n",
       "    <tr>\n",
       "      <th>8</th>\n",
       "      <td>10 Best Foods for You</td>\n",
       "      <td>Looking forward app,</td>\n",
       "      <td>Neutral</td>\n",
       "      <td>0.000000</td>\n",
       "      <td>0.000000</td>\n",
       "    </tr>\n",
       "    <tr>\n",
       "      <th>9</th>\n",
       "      <td>10 Best Foods for You</td>\n",
       "      <td>It helpful site ! It help foods get !</td>\n",
       "      <td>Neutral</td>\n",
       "      <td>0.000000</td>\n",
       "      <td>0.000000</td>\n",
       "    </tr>\n",
       "    <tr>\n",
       "      <th>10</th>\n",
       "      <td>10 Best Foods for You</td>\n",
       "      <td>good you.</td>\n",
       "      <td>Positive</td>\n",
       "      <td>0.700000</td>\n",
       "      <td>0.600000</td>\n",
       "    </tr>\n",
       "    <tr>\n",
       "      <th>11</th>\n",
       "      <td>10 Best Foods for You</td>\n",
       "      <td>Useful information The amount spelling errors ...</td>\n",
       "      <td>Positive</td>\n",
       "      <td>0.200000</td>\n",
       "      <td>0.100000</td>\n",
       "    </tr>\n",
       "    <tr>\n",
       "      <th>12</th>\n",
       "      <td>10 Best Foods for You</td>\n",
       "      <td>Thank you! Great app!! Add arthritis, eyes, im...</td>\n",
       "      <td>Positive</td>\n",
       "      <td>0.750000</td>\n",
       "      <td>0.875000</td>\n",
       "    </tr>\n",
       "    <tr>\n",
       "      <th>13</th>\n",
       "      <td>10 Best Foods for You</td>\n",
       "      <td>Greatest ever Completely awesome maintain heal...</td>\n",
       "      <td>Positive</td>\n",
       "      <td>0.992188</td>\n",
       "      <td>0.866667</td>\n",
       "    </tr>\n",
       "    <tr>\n",
       "      <th>14</th>\n",
       "      <td>10 Best Foods for You</td>\n",
       "      <td>Good health...... Good health first priority.....</td>\n",
       "      <td>Positive</td>\n",
       "      <td>0.550000</td>\n",
       "      <td>0.511111</td>\n",
       "    </tr>\n",
       "    <tr>\n",
       "      <th>15</th>\n",
       "      <td>10 Best Foods for You</td>\n",
       "      <td>NaN</td>\n",
       "      <td>NaN</td>\n",
       "      <td>NaN</td>\n",
       "      <td>NaN</td>\n",
       "    </tr>\n",
       "    <tr>\n",
       "      <th>16</th>\n",
       "      <td>10 Best Foods for You</td>\n",
       "      <td>Health It's important world either life . thin...</td>\n",
       "      <td>Positive</td>\n",
       "      <td>0.450000</td>\n",
       "      <td>1.000000</td>\n",
       "    </tr>\n",
       "    <tr>\n",
       "      <th>17</th>\n",
       "      <td>10 Best Foods for You</td>\n",
       "      <td>Mrs sunita bhati I thankful developers,to make...</td>\n",
       "      <td>Positive</td>\n",
       "      <td>0.600000</td>\n",
       "      <td>0.666667</td>\n",
       "    </tr>\n",
       "    <tr>\n",
       "      <th>18</th>\n",
       "      <td>10 Best Foods for You</td>\n",
       "      <td>Very Useful in diabetes age 30. I need control...</td>\n",
       "      <td>Positive</td>\n",
       "      <td>0.295000</td>\n",
       "      <td>0.100000</td>\n",
       "    </tr>\n",
       "    <tr>\n",
       "      <th>19</th>\n",
       "      <td>10 Best Foods for You</td>\n",
       "      <td>One greatest apps.</td>\n",
       "      <td>Positive</td>\n",
       "      <td>1.000000</td>\n",
       "      <td>1.000000</td>\n",
       "    </tr>\n",
       "  </tbody>\n",
       "</table>\n",
       "</div>"
      ],
      "text/plain": [
       "                      App                                  Translated_Review  \\\n",
       "0   10 Best Foods for You  I like eat delicious food. That's I'm cooking ...   \n",
       "1   10 Best Foods for You    This help eating healthy exercise regular basis   \n",
       "2   10 Best Foods for You                                                NaN   \n",
       "3   10 Best Foods for You         Works great especially going grocery store   \n",
       "4   10 Best Foods for You                                       Best idea us   \n",
       "5   10 Best Foods for You                                           Best way   \n",
       "6   10 Best Foods for You                                            Amazing   \n",
       "7   10 Best Foods for You                                                NaN   \n",
       "8   10 Best Foods for You                               Looking forward app,   \n",
       "9   10 Best Foods for You              It helpful site ! It help foods get !   \n",
       "10  10 Best Foods for You                                          good you.   \n",
       "11  10 Best Foods for You  Useful information The amount spelling errors ...   \n",
       "12  10 Best Foods for You  Thank you! Great app!! Add arthritis, eyes, im...   \n",
       "13  10 Best Foods for You  Greatest ever Completely awesome maintain heal...   \n",
       "14  10 Best Foods for You  Good health...... Good health first priority.....   \n",
       "15  10 Best Foods for You                                                NaN   \n",
       "16  10 Best Foods for You  Health It's important world either life . thin...   \n",
       "17  10 Best Foods for You  Mrs sunita bhati I thankful developers,to make...   \n",
       "18  10 Best Foods for You  Very Useful in diabetes age 30. I need control...   \n",
       "19  10 Best Foods for You                                 One greatest apps.   \n",
       "\n",
       "   Sentiment  Sentiment_Polarity  Sentiment_Subjectivity  \n",
       "0   Positive            1.000000                0.533333  \n",
       "1   Positive            0.250000                0.288462  \n",
       "2        NaN                 NaN                     NaN  \n",
       "3   Positive            0.400000                0.875000  \n",
       "4   Positive            1.000000                0.300000  \n",
       "5   Positive            1.000000                0.300000  \n",
       "6   Positive            0.600000                0.900000  \n",
       "7        NaN                 NaN                     NaN  \n",
       "8    Neutral            0.000000                0.000000  \n",
       "9    Neutral            0.000000                0.000000  \n",
       "10  Positive            0.700000                0.600000  \n",
       "11  Positive            0.200000                0.100000  \n",
       "12  Positive            0.750000                0.875000  \n",
       "13  Positive            0.992188                0.866667  \n",
       "14  Positive            0.550000                0.511111  \n",
       "15       NaN                 NaN                     NaN  \n",
       "16  Positive            0.450000                1.000000  \n",
       "17  Positive            0.600000                0.666667  \n",
       "18  Positive            0.295000                0.100000  \n",
       "19  Positive            1.000000                1.000000  "
      ]
     },
     "execution_count": 4,
     "metadata": {},
     "output_type": "execute_result"
    }
   ],
   "source": [
    "df.head(20)"
   ]
  },
  {
   "cell_type": "code",
   "execution_count": 5,
   "metadata": {
    "collapsed": false
   },
   "outputs": [
    {
     "data": {
      "text/plain": [
       "array(['Positive', nan, 'Neutral', 'Negative'], dtype=object)"
      ]
     },
     "execution_count": 5,
     "metadata": {},
     "output_type": "execute_result"
    }
   ],
   "source": [
    "df.Sentiment.unique()"
   ]
  },
  {
   "cell_type": "code",
   "execution_count": 6,
   "metadata": {
    "collapsed": false
   },
   "outputs": [
    {
     "name": "stdout",
     "output_type": "stream",
     "text": [
      "<class 'pandas.core.frame.DataFrame'>\n",
      "RangeIndex: 64295 entries, 0 to 64294\n",
      "Data columns (total 5 columns):\n",
      "App                       64295 non-null object\n",
      "Translated_Review         37427 non-null object\n",
      "Sentiment                 37432 non-null object\n",
      "Sentiment_Polarity        37432 non-null float64\n",
      "Sentiment_Subjectivity    37432 non-null float64\n",
      "dtypes: float64(2), object(3)\n",
      "memory usage: 2.5+ MB\n"
     ]
    }
   ],
   "source": [
    "df.info()"
   ]
  },
  {
   "cell_type": "code",
   "execution_count": 10,
   "metadata": {
    "collapsed": true
   },
   "outputs": [],
   "source": [
    "df.dropna(inplace=True,how='any')"
   ]
  },
  {
   "cell_type": "code",
   "execution_count": 11,
   "metadata": {
    "collapsed": false
   },
   "outputs": [
    {
     "name": "stdout",
     "output_type": "stream",
     "text": [
      "<class 'pandas.core.frame.DataFrame'>\n",
      "Int64Index: 37427 entries, 0 to 64230\n",
      "Data columns (total 5 columns):\n",
      "App                       37427 non-null object\n",
      "Translated_Review         37427 non-null object\n",
      "Sentiment                 37427 non-null object\n",
      "Sentiment_Polarity        37427 non-null float64\n",
      "Sentiment_Subjectivity    37427 non-null float64\n",
      "dtypes: float64(2), object(3)\n",
      "memory usage: 1.7+ MB\n"
     ]
    }
   ],
   "source": [
    "df.info()"
   ]
  },
  {
   "cell_type": "code",
   "execution_count": 12,
   "metadata": {
    "collapsed": true
   },
   "outputs": [],
   "source": [
    "from sklearn.feature_extraction.text import TfidfVectorizer\n",
    "from sklearn.model_selection import train_test_split"
   ]
  },
  {
   "cell_type": "code",
   "execution_count": 15,
   "metadata": {
    "collapsed": false
   },
   "outputs": [
    {
     "data": {
      "text/plain": [
       "Positive    23998\n",
       "Negative     8271\n",
       "Neutral      5158\n",
       "Name: Sentiment, dtype: int64"
      ]
     },
     "execution_count": 15,
     "metadata": {},
     "output_type": "execute_result"
    }
   ],
   "source": [
    "df.Sentiment.value_counts()"
   ]
  },
  {
   "cell_type": "code",
   "execution_count": 13,
   "metadata": {
    "collapsed": false
   },
   "outputs": [
    {
     "data": {
      "text/plain": [
       "0    I like eat delicious food. That's I'm cooking ...\n",
       "1      This help eating healthy exercise regular basis\n",
       "3           Works great especially going grocery store\n",
       "4                                         Best idea us\n",
       "5                                             Best way\n",
       "Name: Translated_Review, dtype: object"
      ]
     },
     "execution_count": 13,
     "metadata": {},
     "output_type": "execute_result"
    }
   ],
   "source": [
    "tf = TfidfVectorizer()\n",
    "df.Translated_Review.head()"
   ]
  },
  {
   "cell_type": "code",
   "execution_count": 17,
   "metadata": {
    "collapsed": false
   },
   "outputs": [],
   "source": [
    "X_train,X_test,y_train,y_test = train_test_split(df.Translated_Review,df.Sentiment,stratify=df.Sentiment)"
   ]
  },
  {
   "cell_type": "code",
   "execution_count": 18,
   "metadata": {
    "collapsed": false
   },
   "outputs": [
    {
     "data": {
      "text/plain": [
       "TfidfVectorizer(analyzer='word', binary=False, decode_error='strict',\n",
       "        dtype=<class 'numpy.int64'>, encoding='utf-8', input='content',\n",
       "        lowercase=True, max_df=1.0, max_features=None, min_df=1,\n",
       "        ngram_range=(1, 1), norm='l2', preprocessor=None, smooth_idf=True,\n",
       "        stop_words=None, strip_accents=None, sublinear_tf=False,\n",
       "        token_pattern='(?u)\\\\b\\\\w\\\\w+\\\\b', tokenizer=None, use_idf=True,\n",
       "        vocabulary=None)"
      ]
     },
     "execution_count": 18,
     "metadata": {},
     "output_type": "execute_result"
    }
   ],
   "source": [
    "tf.fit(X_train)"
   ]
  },
  {
   "cell_type": "code",
   "execution_count": 19,
   "metadata": {
    "collapsed": false
   },
   "outputs": [
    {
     "data": {
      "text/plain": [
       "<bound method CountVectorizer.get_feature_names of TfidfVectorizer(analyzer='word', binary=False, decode_error='strict',\n",
       "        dtype=<class 'numpy.int64'>, encoding='utf-8', input='content',\n",
       "        lowercase=True, max_df=1.0, max_features=None, min_df=1,\n",
       "        ngram_range=(1, 1), norm='l2', preprocessor=None, smooth_idf=True,\n",
       "        stop_words=None, strip_accents=None, sublinear_tf=False,\n",
       "        token_pattern='(?u)\\\\b\\\\w\\\\w+\\\\b', tokenizer=None, use_idf=True,\n",
       "        vocabulary=None)>"
      ]
     },
     "execution_count": 19,
     "metadata": {},
     "output_type": "execute_result"
    }
   ],
   "source": [
    "tf.get_feature_names"
   ]
  },
  {
   "cell_type": "code",
   "execution_count": 20,
   "metadata": {
    "collapsed": false
   },
   "outputs": [
    {
     "data": {
      "text/plain": [
       "{'worst': 18642,\n",
       " 'stupid': 16060,\n",
       " 'of': 11720,\n",
       " 'totally': 17043,\n",
       " 'sucked': 16144,\n",
       " 'it': 9252,\n",
       " 'would': 18652,\n",
       " 'auto': 1885,\n",
       " 'close': 3666,\n",
       " 'open': 11831,\n",
       " 'entered': 6030,\n",
       " 'info': 8895,\n",
       " '3x': 432,\n",
       " 'fail': 6485,\n",
       " 'good': 7631,\n",
       " 'first': 6782,\n",
       " 'start': 15811,\n",
       " 'spending': 15643,\n",
       " 'stars': 15810,\n",
       " 'making': 10377,\n",
       " 'phone': 12470,\n",
       " 'calls': 3092,\n",
       " 'feeding': 6619,\n",
       " 'cat': 3248,\n",
       " 'and': 1405,\n",
       " 'opening': 11834,\n",
       " 'packages': 12104,\n",
       " 'instead': 9012,\n",
       " 'actually': 948,\n",
       " 'renovating': 13971,\n",
       " 'mansion': 10434,\n",
       " 'also': 1314,\n",
       " 'think': 16759,\n",
       " 'harder': 8040,\n",
       " 'levels': 9926,\n",
       " 'earn': 5736,\n",
       " 'star': 15800,\n",
       " 'since': 15203,\n",
       " 'tasks': 16503,\n",
       " 'cost': 4270,\n",
       " 'do': 5413,\n",
       " 'ill': 8655,\n",
       " 'play': 12639,\n",
       " 'waste': 18252,\n",
       " 'pointless': 12744,\n",
       " 'like': 9994,\n",
       " 'call': 3085,\n",
       " 'turning': 17338,\n",
       " 'water': 18267,\n",
       " 'answering': 1472,\n",
       " 'door': 5482,\n",
       " 'etc': 6159,\n",
       " 'this': 16772,\n",
       " 'fun': 7234,\n",
       " 'game': 7326,\n",
       " 'constant': 4079,\n",
       " 'banner': 2105,\n",
       " 'units': 17603,\n",
       " 'make': 10367,\n",
       " 'feel': 6622,\n",
       " 'wasting': 18258,\n",
       " 'resources': 14117,\n",
       " 'used': 17815,\n",
       " 'months': 11023,\n",
       " 'savings': 14610,\n",
       " 'single': 15211,\n",
       " '30': 354,\n",
       " 'ticket': 16860,\n",
       " 'got': 7682,\n",
       " 'off': 11724,\n",
       " 'gonna': 7628,\n",
       " 'take': 16438,\n",
       " 'break': 2778,\n",
       " 'you': 18807,\n",
       " 'long': 10163,\n",
       " 'hate': 8073,\n",
       " 'bakwas': 2061,\n",
       " 'virus': 18075,\n",
       " 'add': 963,\n",
       " 'update': 17743,\n",
       " 'sub': 16077,\n",
       " 'par': 12176,\n",
       " 'music': 11169,\n",
       " 'album': 1219,\n",
       " 'art': 1688,\n",
       " 'stinks': 15893,\n",
       " 'took': 17003,\n",
       " 'grouped': 7829,\n",
       " 'together': 16958,\n",
       " 'file': 6702,\n",
       " 'sync': 16374,\n",
       " 'google': 7653,\n",
       " 've': 17938,\n",
       " 'downloaded': 5530,\n",
       " 'prior': 13047,\n",
       " 'new': 11374,\n",
       " 'now': 11567,\n",
       " 'love': 10220,\n",
       " 'tracking': 17095,\n",
       " 'feature': 6606,\n",
       " 'put': 13319,\n",
       " 'dog': 5438,\n",
       " 'away': 1952,\n",
       " 'minutes': 10858,\n",
       " 'overall': 12009,\n",
       " 'could': 4288,\n",
       " 'great': 7769,\n",
       " 'diamonds': 5093,\n",
       " 'neee': 11314,\n",
       " 'high': 8259,\n",
       " 'hardly': 8042,\n",
       " 'buy': 3011,\n",
       " 'choice': 3508,\n",
       " 'fortune': 7047,\n",
       " 'the': 16695,\n",
       " 'outfit': 11980,\n",
       " 'joke': 9386,\n",
       " 'aswell': 1780,\n",
       " 'stick': 15875,\n",
       " 'way': 18278,\n",
       " 'trough': 17263,\n",
       " 'much': 11129,\n",
       " 'options': 11885,\n",
       " 'free': 7108,\n",
       " 'lower': 10234,\n",
       " 'amount': 1377,\n",
       " 'need': 11307,\n",
       " 'my': 11188,\n",
       " 'club': 3687,\n",
       " 'listed': 10053,\n",
       " 'coventry': 4325,\n",
       " 'hearsall': 8144,\n",
       " 'golf': 7617,\n",
       " 'favorite': 6587,\n",
       " 'really': 13581,\n",
       " 'exspress': 6399,\n",
       " 'without': 18553,\n",
       " 'words': 18609,\n",
       " 'blatent': 2495,\n",
       " 'cash': 3233,\n",
       " 'grab': 7703,\n",
       " 'popular': 12801,\n",
       " 'br': 2739,\n",
       " 'style': 16068,\n",
       " 'mode': 10958,\n",
       " 'featured': 6607,\n",
       " 'fortnite': 7042,\n",
       " 'player': 12644,\n",
       " 'unknowns': 17609,\n",
       " 'battlegrounds': 2179,\n",
       " 'while': 18421,\n",
       " 'top': 17015,\n",
       " 'down': 5518,\n",
       " 'design': 4961,\n",
       " 'ads': 1030,\n",
       " 'twist': 17372,\n",
       " 'something': 15484,\n",
       " 'fresh': 7143,\n",
       " 'scene': 14660,\n",
       " 'clear': 3624,\n",
       " 'taking': 16448,\n",
       " 'existing': 6311,\n",
       " 'styles': 16071,\n",
       " 'outfits': 11981,\n",
       " 'gamble': 7323,\n",
       " 'deceive': 4727,\n",
       " 'uneducated': 17539,\n",
       " 'users': 17829,\n",
       " 'games': 7335,\n",
       " 'made': 10320,\n",
       " 'genre': 7442,\n",
       " 'explode': 6372,\n",
       " 'font': 6956,\n",
       " 'ripped': 14300,\n",
       " 'epic': 6061,\n",
       " 'casual': 3246,\n",
       " 'attire': 1831,\n",
       " 'male': 10382,\n",
       " 'model': 10959,\n",
       " 'taken': 16440,\n",
       " 'efforts': 5844,\n",
       " 'unique': 17596,\n",
       " 'ruined': 14456,\n",
       " 'tarnished': 16498,\n",
       " 'cheap': 3430,\n",
       " 'tricks': 17222,\n",
       " 'offers': 11734,\n",
       " 'interesting': 9077,\n",
       " 'story': 15936,\n",
       " 'outside': 11997,\n",
       " 'gameplay': 7332,\n",
       " 'worth': 18644,\n",
       " 'time': 16881,\n",
       " 'average': 1922,\n",
       " 'app': 1534,\n",
       " 'lot': 10208,\n",
       " 'room': 14382,\n",
       " 'improvement': 8745,\n",
       " 'using': 17834,\n",
       " 'note': 11523,\n",
       " 'crashed': 4375,\n",
       " '7x': 663,\n",
       " 'within': 18550,\n",
       " 'month': 11021,\n",
       " 'still': 15885,\n",
       " 'nice': 11410,\n",
       " 'working': 18621,\n",
       " 'worked': 18615,\n",
       " 'day': 4667,\n",
       " 'weather': 18309,\n",
       " 'animation': 1431,\n",
       " 'stopped': 15922,\n",
       " 'please': 12666,\n",
       " 'fix': 6796,\n",
       " 'upgraded': 17755,\n",
       " 'marshmallow': 10476,\n",
       " 'stuck': 16033,\n",
       " 'thursday': 16846,\n",
       " 'upgrading': 17757,\n",
       " 'super': 16219,\n",
       " 'waster': 18255,\n",
       " 'somehow': 15477,\n",
       " 'educational': 5822,\n",
       " 'figure': 6697,\n",
       " 'right': 14284,\n",
       " 'degrees': 4832,\n",
       " 'angles': 1423,\n",
       " 'reach': 13544,\n",
       " 'person': 12405,\n",
       " 'across': 927,\n",
       " 'boring': 2685,\n",
       " 'farm': 6545,\n",
       " 'races': 13430,\n",
       " 'unlock': 17620,\n",
       " 'anything': 1502,\n",
       " 'cks': 3585,\n",
       " 'graphics': 7751,\n",
       " 'runs': 14472,\n",
       " 'bad': 2025,\n",
       " 'snapdragon': 15397,\n",
       " '835': 676,\n",
       " 'lags': 9730,\n",
       " 'even': 6189,\n",
       " 'low': 10233,\n",
       " 'settings': 14916,\n",
       " 'run': 14466,\n",
       " 'almost': 1290,\n",
       " 'everything': 6215,\n",
       " '60fps': 587,\n",
       " 'locked': 10124,\n",
       " 'except': 6258,\n",
       " 'absolutly': 817,\n",
       " '27': 308,\n",
       " 'weeks': 18339,\n",
       " 'pregnant': 12951,\n",
       " 'sometimes': 15489,\n",
       " 'trouble': 17257,\n",
       " 'keeping': 9503,\n",
       " 'appointments': 1574,\n",
       " 'straight': 15943,\n",
       " 'lists': 10061,\n",
       " 'meds': 10630,\n",
       " 'appts': 1602,\n",
       " 'have': 8089,\n",
       " 'makes': 10373,\n",
       " 'easy': 5764,\n",
       " 'not': 11519,\n",
       " 'mention': 10676,\n",
       " 'drs': 5626,\n",
       " 'wish': 18533,\n",
       " 'every': 6211,\n",
       " 'hospital': 8437,\n",
       " 'paid': 12120,\n",
       " 'works': 18626,\n",
       " 'stops': 15924,\n",
       " 'shuts': 15117,\n",
       " 'restarted': 14144,\n",
       " 'camera': 3107,\n",
       " 'device': 5037,\n",
       " '100': 23,\n",
       " 'miles': 10797,\n",
       " 'xd': 18716,\n",
       " 'there': 16725,\n",
       " 'convenient': 4172,\n",
       " 'friends': 7163,\n",
       " 'community': 3865,\n",
       " 'building': 2920,\n",
       " 'aspect': 1729,\n",
       " 'difficult': 5139,\n",
       " 'takes': 16446,\n",
       " 'enjoyment': 6009,\n",
       " 'rather': 13517,\n",
       " 'paying': 12280,\n",
       " 'players': 12646,\n",
       " 'vs': 18149,\n",
       " 'nonpayment': 11490,\n",
       " 'gear': 7398,\n",
       " 'kinda': 9573,\n",
       " 'sad': 14512,\n",
       " 'adjustments': 1005,\n",
       " 'needed': 11308,\n",
       " 'perhaps': 12376,\n",
       " 'content': 4115,\n",
       " 'differing': 5138,\n",
       " 'battle': 2176,\n",
       " 'modes': 10969,\n",
       " 'food': 6958,\n",
       " 'thought': 16794,\n",
       " 'addictive': 972,\n",
       " 'deleting': 4848,\n",
       " 'can': 3119,\n",
       " 'complete': 3924,\n",
       " 'level': 9920,\n",
       " 'progress': 13136,\n",
       " 'very': 17992,\n",
       " 'ease': 5750,\n",
       " 'use': 17811,\n",
       " 'date': 4655,\n",
       " 'information': 8899,\n",
       " 'no': 11468,\n",
       " 'application': 1563,\n",
       " 'problem': 13071,\n",
       " 'loved': 10223,\n",
       " 'copy': 4230,\n",
       " 'real': 13568,\n",
       " 'if': 8631,\n",
       " 'squad': 15726,\n",
       " 'someday': 15475,\n",
       " 'appreciate': 1580,\n",
       " 'try': 17292,\n",
       " 'breaking': 2785,\n",
       " 'trees': 17200,\n",
       " 'rocks': 14351,\n",
       " 'helpful': 8197,\n",
       " 'freezes': 7132,\n",
       " 'doesnt': 5436,\n",
       " 'let': 9909,\n",
       " 'search': 14753,\n",
       " 'when': 18406,\n",
       " 'work': 18611,\n",
       " 'll': 10091,\n",
       " 'freeze': 7128,\n",
       " 'commercial': 3844,\n",
       " 'breaks': 2786,\n",
       " 'needs': 11312,\n",
       " 'done': 5470,\n",
       " 'amazing': 1344,\n",
       " 'experiencing': 6352,\n",
       " 'lag': 9723,\n",
       " 'include': 8787,\n",
       " 'option': 11882,\n",
       " 'book': 2638,\n",
       " 'flights': 6862,\n",
       " 'however': 8476,\n",
       " 'able': 795,\n",
       " 'offer': 11730,\n",
       " 'doesn': 5434,\n",
       " 'well': 18363,\n",
       " 'all': 1255,\n",
       " 'fails': 6488,\n",
       " 'recognize': 13666,\n",
       " 'itineraries': 9270,\n",
       " 'ordered': 11896,\n",
       " 'expedia': 6335,\n",
       " 'account': 881,\n",
       " 'buries': 2969,\n",
       " 'cancellation': 3127,\n",
       " 'policies': 12759,\n",
       " 'anyone': 1500,\n",
       " 'looking': 10176,\n",
       " 'flirt': 6877,\n",
       " 'online': 11814,\n",
       " 'naughty': 11263,\n",
       " 'discreet': 5282,\n",
       " 'dating': 4662,\n",
       " 'ashley': 1715,\n",
       " 'madison': 10321,\n",
       " 'secret': 14773,\n",
       " 'hookup': 8392,\n",
       " 'bumble': 2946,\n",
       " 'aroundme': 1669,\n",
       " 'meet': 10631,\n",
       " 'inmy': 8942,\n",
       " 'city': 3581,\n",
       " 'match': 10509,\n",
       " 'pof': 12736,\n",
       " 'lets': 9913,\n",
       " 'see': 14798,\n",
       " 'witha': 18544,\n",
       " 'im': 8670,\n",
       " 'sure': 16262,\n",
       " 'want': 18214,\n",
       " 'swipe': 16342,\n",
       " 'absolutely': 816,\n",
       " 'its': 9275,\n",
       " 'helping': 8201,\n",
       " 'learn': 9842,\n",
       " 'language': 9755,\n",
       " 'better': 2362,\n",
       " 'teacher': 16528,\n",
       " 'trying': 17296,\n",
       " 'reccomend': 13625,\n",
       " 'apps': 1597,\n",
       " 'cough': 4287,\n",
       " 'babbel': 1988,\n",
       " 'rosetta': 14396,\n",
       " 'stone': 15914,\n",
       " 'did': 5110,\n",
       " 'definately': 4813,\n",
       " 'money': 11000,\n",
       " 'donate': 5465,\n",
       " 'thing': 16756,\n",
       " 'rely': 13914,\n",
       " 'grammar': 7727,\n",
       " 'different': 5133,\n",
       " 'usage': 17805,\n",
       " 'though': 16793,\n",
       " 'look': 10173,\n",
       " 'up': 17738,\n",
       " 'au': 1843,\n",
       " 'revoir': 14234,\n",
       " 'more': 11040,\n",
       " 'filters': 6722,\n",
       " 'to': 16945,\n",
       " 'for': 6979,\n",
       " 'example': 6244,\n",
       " 'with': 18543,\n",
       " 'furniture': 7267,\n",
       " 'children': 3491,\n",
       " 'unlike': 17612,\n",
       " 'kind': 9572,\n",
       " 'cheat': 3436,\n",
       " 'frustration': 7204,\n",
       " 'redo': 13742,\n",
       " 'garden': 7353,\n",
       " 'beat': 2227,\n",
       " 'projects': 13149,\n",
       " 'but': 2993,\n",
       " 'give': 7518,\n",
       " 'assignments': 1749,\n",
       " 'answer': 1470,\n",
       " 'slow': 15339,\n",
       " 'always': 1333,\n",
       " 'switching': 16354,\n",
       " 'self': 14833,\n",
       " 'hi': 8243,\n",
       " 'know': 9634,\n",
       " 'remove': 13950,\n",
       " 'vignette': 18049,\n",
       " 'effect': 5830,\n",
       " 'photo': 12477,\n",
       " 'quality': 13360,\n",
       " 'choose': 3513,\n",
       " 'highest': 8261,\n",
       " 'resolution': 14105,\n",
       " 'pictures': 12525,\n",
       " 'grainy': 7725,\n",
       " 'unlocked': 17623,\n",
       " 'shows': 15097,\n",
       " 'boosters': 2664,\n",
       " 'hundred': 8519,\n",
       " 'back': 1998,\n",
       " 'in': 8757,\n",
       " 'helpers': 8195,\n",
       " 'where': 18411,\n",
       " 'treat': 17194,\n",
       " 'calendar': 3074,\n",
       " 'go': 7582,\n",
       " '10': 22,\n",
       " '29': 319,\n",
       " '12': 81,\n",
       " '16': 142,\n",
       " 'keep': 9500,\n",
       " 'wiping': 18525,\n",
       " '22': 265,\n",
       " '18': 164,\n",
       " 'again': 1113,\n",
       " 'enjoyed': 6007,\n",
       " 'giving': 7524,\n",
       " 'poor': 12791,\n",
       " 'review': 14221,\n",
       " 'someone': 15480,\n",
       " 'addresses': 987,\n",
       " 'issue': 9247,\n",
       " 'removed': 13951,\n",
       " 'ago': 1141,\n",
       " 'receiving': 13633,\n",
       " 'numerous': 11601,\n",
       " 'emailed': 5898,\n",
       " 'development': 5033,\n",
       " 'team': 16532,\n",
       " 'store': 15928,\n",
       " 'received': 13631,\n",
       " 'response': 14131,\n",
       " 'nothing': 11535,\n",
       " 'changes': 3381,\n",
       " 'delete': 4844,\n",
       " 'leave': 9853,\n",
       " 'permanently': 12387,\n",
       " 'ok': 11762,\n",
       " 'then': 16717,\n",
       " 'came': 3104,\n",
       " 'reservations': 14079,\n",
       " 'disappeared': 5228,\n",
       " 'absolute': 815,\n",
       " 'crap': 4366,\n",
       " 'zelle': 18866,\n",
       " 'implementation': 8711,\n",
       " 'flawed': 6840,\n",
       " 'transfer': 17135,\n",
       " 'banks': 2103,\n",
       " 'name': 11223,\n",
       " 'email': 5897,\n",
       " 'helpfulness': 8199,\n",
       " 'reduced': 13750,\n",
       " 'drastically': 5571,\n",
       " 'another': 1465,\n",
       " 'number': 11594,\n",
       " 'handy': 8005,\n",
       " 'exactly': 6239,\n",
       " 'set': 14911,\n",
       " 'highly': 8267,\n",
       " 'recommended': 13679,\n",
       " '搵楼租楼': 18931,\n",
       " 'management': 10399,\n",
       " 'care': 3195,\n",
       " 'what': 18391,\n",
       " 'bothers': 2696,\n",
       " 'comfortable': 3822,\n",
       " 'talking': 16458,\n",
       " 'learned': 9843,\n",
       " 'exercises': 6294,\n",
       " 'sentences': 14872,\n",
       " 'change': 3375,\n",
       " 'translations': 17158,\n",
       " 'sentence': 14871,\n",
       " 'accepted': 847,\n",
       " 'developers': 5031,\n",
       " 'help': 8190,\n",
       " 'educate': 5819,\n",
       " 'respectively': 14125,\n",
       " 'calmly': 3097,\n",
       " 'devs': 5049,\n",
       " 'effort': 5841,\n",
       " 'frequent': 7141,\n",
       " 'updates': 17747,\n",
       " 'showb': 15090,\n",
       " 'big': 2399,\n",
       " 'workouts': 18624,\n",
       " 'me': 10573,\n",
       " 'based': 2145,\n",
       " 'parameters': 12185,\n",
       " 'setting': 14915,\n",
       " 'getting': 7470,\n",
       " 'bored': 2682,\n",
       " 'routine': 14422,\n",
       " 'decide': 4735,\n",
       " 'vary': 17927,\n",
       " 'waiting': 18178,\n",
       " 'forever': 7010,\n",
       " 'areas': 1639,\n",
       " 'home': 8354,\n",
       " 'revamp': 14208,\n",
       " 'gazillion': 7386,\n",
       " 'fairy': 6498,\n",
       " 'dust': 5702,\n",
       " 'spend': 15641,\n",
       " 'on': 11799,\n",
       " 'sort': 15526,\n",
       " 'why': 18461,\n",
       " 'lives': 10083,\n",
       " 'disappear': 5227,\n",
       " 'they': 16741,\n",
       " 'as': 1705,\n",
       " 'lose': 10198,\n",
       " 'get': 7463,\n",
       " 'ones': 11806,\n",
       " 'given': 7521,\n",
       " 'gone': 7627,\n",
       " 'happens': 8023,\n",
       " 'source': 15550,\n",
       " 'continueing': 4134,\n",
       " 'buffer': 2895,\n",
       " 'bec': 2238,\n",
       " 'graphic': 7748,\n",
       " 'lagging': 9727,\n",
       " 'draining': 5565,\n",
       " 'battery': 2174,\n",
       " 'higher': 8260,\n",
       " 'baby': 1992,\n",
       " 'bus': 2982,\n",
       " 'them': 16710,\n",
       " 'just': 9446,\n",
       " 'say': 14616,\n",
       " 'is': 9229,\n",
       " 'teach': 16526,\n",
       " 'ur': 17790,\n",
       " 'lil': 10005,\n",
       " 'kids': 9556,\n",
       " 'win': 18504,\n",
       " 'car': 3183,\n",
       " 'or': 11888,\n",
       " 'somethin': 15483,\n",
       " 'some1': 15471,\n",
       " 'greatest': 7772,\n",
       " 'ages': 1128,\n",
       " 'mayb': 10544,\n",
       " 'mite': 10906,\n",
       " 'pushing': 13316,\n",
       " 'kid': 9549,\n",
       " 'school': 14673,\n",
       " 'trust': 17284,\n",
       " 'girl': 7512,\n",
       " 'hands': 8000,\n",
       " 'keeps': 9504,\n",
       " 'beezy': 2267,\n",
       " 'hours': 8464,\n",
       " 'her': 8209,\n",
       " 'enjoy': 6004,\n",
       " 'must': 11176,\n",
       " 'equipments': 6090,\n",
       " 'discouraging': 5277,\n",
       " 'awarded': 1946,\n",
       " 'gold': 7612,\n",
       " 'hard': 8038,\n",
       " 'unstalled': 17695,\n",
       " 'activated': 935,\n",
       " 'by': 3029,\n",
       " 'your': 18818,\n",
       " 'own': 12075,\n",
       " 'contact': 4097,\n",
       " 'correct': 4251,\n",
       " 'soon': 15501,\n",
       " 'possible': 12842,\n",
       " 'local': 10111,\n",
       " 'dominos': 5460,\n",
       " 'ashland': 1714,\n",
       " 'va': 17872,\n",
       " 'combination': 3804,\n",
       " 'ingredients': 8919,\n",
       " 'pasta': 12242,\n",
       " 'dishes': 5308,\n",
       " 'limit': 10010,\n",
       " 'ingredient': 8918,\n",
       " 'choices': 3509,\n",
       " 'usually': 17839,\n",
       " 'order': 11895,\n",
       " 'chicken': 3483,\n",
       " 'alfredo': 1234,\n",
       " 'dish': 5307,\n",
       " 'mushrooms': 11168,\n",
       " 'extra': 6417,\n",
       " 'sadly': 14517,\n",
       " 'current': 4535,\n",
       " 'layout': 9816,\n",
       " 'koskoca': 9656,\n",
       " 'netflix': 11351,\n",
       " 'gives': 7523,\n",
       " 'trial': 17213,\n",
       " 'period': 12379,\n",
       " 'youtube': 18824,\n",
       " 'red': 13716,\n",
       " 'days': 4672,\n",
       " 'flowing': 6903,\n",
       " 'we': 18290,\n",
       " 'normally': 11508,\n",
       " 'because': 2241,\n",
       " 'how': 8474,\n",
       " 'before': 2269,\n",
       " 'perfect': 12361,\n",
       " 'chat': 3421,\n",
       " 'people': 12348,\n",
       " 'face': 6456,\n",
       " 'namibian': 11228,\n",
       " 'awesome': 1957,\n",
       " 'everyone': 6214,\n",
       " 'download': 5528,\n",
       " 'small': 15358,\n",
       " 'places': 12601,\n",
       " 'cant': 3146,\n",
       " 'color': 3783,\n",
       " 'dublin': 5649,\n",
       " 'several': 14924,\n",
       " 'occasions': 11689,\n",
       " 'rates': 13516,\n",
       " 'booking': 2640,\n",
       " 'direct': 5200,\n",
       " 'hotel': 8451,\n",
       " 'website': 18321,\n",
       " 'many': 10443,\n",
       " 'complaints': 3921,\n",
       " 'asses': 1741,\n",
       " 'damn': 4624,\n",
       " 'recipes': 13650,\n",
       " 'fixed': 6799,\n",
       " 'last': 9773,\n",
       " 'night': 11432,\n",
       " 'family': 6523,\n",
       " 'sugar': 16167,\n",
       " 'items': 9265,\n",
       " 'couldn': 4289,\n",
       " 'lg': 9935,\n",
       " 'v20': 17864,\n",
       " 'login': 10142,\n",
       " 'kept': 9512,\n",
       " 'saying': 14619,\n",
       " 'may': 10541,\n",
       " 'min': 10814,\n",
       " 'gather': 7375,\n",
       " 'ever': 6199,\n",
       " 'um': 17442,\n",
       " 'shut': 15114,\n",
       " 'error': 6116,\n",
       " 'message': 10709,\n",
       " 'log': 10132,\n",
       " 'reached': 13545,\n",
       " 'article': 1693,\n",
       " 'turned': 17337,\n",
       " 'paywall': 12292,\n",
       " 'that': 16687,\n",
       " 'longer': 10164,\n",
       " 'crashes': 4376,\n",
       " 'markets': 10469,\n",
       " 'tracks': 17096,\n",
       " 'charging': 3402,\n",
       " 'alternatives': 1322,\n",
       " 'has': 8062,\n",
       " 'plenty': 12681,\n",
       " 'completely': 3926,\n",
       " 'doable': 5414,\n",
       " 'complicated': 3933,\n",
       " 'wall': 18197,\n",
       " 'plan': 12609,\n",
       " 'variation': 17917,\n",
       " 'routines': 14424,\n",
       " 'broken': 2839,\n",
       " '20': 215,\n",
       " 'started': 15812,\n",
       " 'yoga': 18801,\n",
       " 'sessions': 14910,\n",
       " 'added': 964,\n",
       " 'plans': 12620,\n",
       " 'beginner': 2281,\n",
       " 'behind': 2294,\n",
       " 'teaching': 16531,\n",
       " 'method': 10729,\n",
       " 'fact': 6471,\n",
       " 'english': 5993,\n",
       " 'equivalent': 6092,\n",
       " 'helps': 8204,\n",
       " 'concepts': 3974,\n",
       " 'pdfs': 12303,\n",
       " 'unfortunately': 17562,\n",
       " 'lack': 9711,\n",
       " 'chromebook': 3535,\n",
       " 'intergration': 9086,\n",
       " 'means': 10583,\n",
       " 'uninstall': 17585,\n",
       " 'alternative': 1321,\n",
       " 'refuses': 13807,\n",
       " 'drive': 5605,\n",
       " 'folder': 6944,\n",
       " 'access': 852,\n",
       " 'sd': 14742,\n",
       " 'downloads': 5534,\n",
       " 'so': 15428,\n",
       " 'everytime': 6216,\n",
       " 'move': 11090,\n",
       " 'similar': 15173,\n",
       " 'save': 14604,\n",
       " 'manually': 10437,\n",
       " 'desired': 4976,\n",
       " 'location': 10120,\n",
       " 'best': 2351,\n",
       " 'seems': 14809,\n",
       " 'cut': 4560,\n",
       " 'around': 1668,\n",
       " '50min': 525,\n",
       " 'mark': 10461,\n",
       " 'honest': 8374,\n",
       " 'wrong': 18680,\n",
       " 'flexible': 6849,\n",
       " 'ways': 18280,\n",
       " 'editing': 5810,\n",
       " 'creating': 4396,\n",
       " 'personal': 12406,\n",
       " 'ability': 791,\n",
       " 'import': 8719,\n",
       " 'images': 8674,\n",
       " 'backgrounds': 2006,\n",
       " 'easier': 5752,\n",
       " 'specific': 15612,\n",
       " 'wants': 18217,\n",
       " 'said': 14527,\n",
       " 'hope': 8399,\n",
       " 'fall': 6506,\n",
       " 'spamming': 15571,\n",
       " 'wow': 18660,\n",
       " 'incredibly': 8829,\n",
       " 'comprehensive': 3949,\n",
       " 'haven': 8090,\n",
       " 'seen': 14810,\n",
       " 'half': 7967,\n",
       " 'forward': 7052,\n",
       " 'developments': 5035,\n",
       " 'idea': 8601,\n",
       " 'crashing': 4377,\n",
       " 'seconds': 14772,\n",
       " 'fossil': 7057,\n",
       " 'marshal': 10475,\n",
       " 'gen': 7412,\n",
       " 'never': 11368,\n",
       " 'until': 17712,\n",
       " 'resistance': 14096,\n",
       " 'task': 16500,\n",
       " 'left': 9865,\n",
       " 'hand': 7987,\n",
       " 'side': 15131,\n",
       " 'hit': 8312,\n",
       " 'suppose': 16253,\n",
       " 'pick': 12510,\n",
       " 'looked': 10174,\n",
       " 'bug': 2901,\n",
       " 'reported': 14024,\n",
       " 'rating': 13518,\n",
       " 'currently': 4536,\n",
       " 'zone': 18893,\n",
       " 'rowdyrebel': 14429,\n",
       " 'rowdyrebel80': 14430,\n",
       " 'accounts': 885,\n",
       " 'happening': 8021,\n",
       " 'program': 13126,\n",
       " 'bathroom': 2166,\n",
       " 'manage': 10396,\n",
       " 'liking': 10003,\n",
       " 'reset': 14084,\n",
       " 'wallpaper': 18201,\n",
       " 'bought': 2703,\n",
       " 'defective': 4794,\n",
       " 'pants': 12167,\n",
       " 'returned': 14201,\n",
       " 'reordered': 13986,\n",
       " 'jeans': 9337,\n",
       " 'customer': 4546,\n",
       " 'wont': 18591,\n",
       " 'reimburse': 13839,\n",
       " 'clearly': 3628,\n",
       " 'customers': 4547,\n",
       " 'wouldn': 18653,\n",
       " 'select': 14824,\n",
       " 'pretty': 13009,\n",
       " 'buffering': 2897,\n",
       " 'freezing': 7135,\n",
       " 'issues': 9249,\n",
       " 'mobile': 10946,\n",
       " 'two': 17376,\n",
       " 'multiple': 11149,\n",
       " 'devices': 5038,\n",
       " 'mentioned': 10677,\n",
       " 'playback': 12642,\n",
       " 'wii': 18485,\n",
       " 'crunchy': 4478,\n",
       " 'roll': 14363,\n",
       " 'pc': 12299,\n",
       " 'sometimeish': 15488,\n",
       " 'xbox': 18714,\n",
       " 'ps': 13234,\n",
       " 'else': 5894,\n",
       " 'methods': 10731,\n",
       " 'keyboard': 9521,\n",
       " 'unbearable': 17462,\n",
       " 'recent': 13634,\n",
       " 'stop': 15918,\n",
       " 'told': 16972,\n",
       " '87': 687,\n",
       " 'booked': 2639,\n",
       " 'confirmation': 4017,\n",
       " 'screen': 14711,\n",
       " '118aud': 76,\n",
       " 'meaning': 10579,\n",
       " '118': 75,\n",
       " 'wouldve': 18655,\n",
       " 'appreciated': 1581,\n",
       " 'pricing': 13027,\n",
       " 'australian': 1864,\n",
       " 'hotels': 8452,\n",
       " 'aud': 1845,\n",
       " 'yonger': 18804,\n",
       " 'confused': 4028,\n",
       " 'alba': 1216,\n",
       " 'bush': 2984,\n",
       " 'phones': 12472,\n",
       " 'archos': 1635,\n",
       " 'true': 17272,\n",
       " 'logo': 10147,\n",
       " 'track': 17091,\n",
       " 'flight': 6859,\n",
       " 'prices': 13025,\n",
       " 'basic': 2150,\n",
       " 'fares': 6542,\n",
       " 'layover': 9818,\n",
       " 'length': 9892,\n",
       " 'short': 15064,\n",
       " 'exclude': 6273,\n",
       " 'airlines': 1185,\n",
       " 'max': 10536,\n",
       " 'dislike': 5315,\n",
       " 'ingame': 8915,\n",
       " 'purchases': 13299,\n",
       " 'orders': 11898,\n",
       " 'tools': 17008,\n",
       " 'wouod': 18659,\n",
       " 'automotive': 1897,\n",
       " 'garage': 7351,\n",
       " 'check': 3443,\n",
       " 'find': 6739,\n",
       " 'past': 12241,\n",
       " 'history': 8311,\n",
       " 'recommend': 13675,\n",
       " 'especially': 6128,\n",
       " 'buying': 3016,\n",
       " 'butthis': 3002,\n",
       " 'four': 7068,\n",
       " 'at': 1781,\n",
       " 'attempt': 1819,\n",
       " 'tells': 16584,\n",
       " 'requires': 14056,\n",
       " 'according': 879,\n",
       " 'after': 1105,\n",
       " 'which': 18418,\n",
       " 'edit': 5808,\n",
       " 'closes': 3672,\n",
       " 'reply': 14019,\n",
       " 'restart': 14143,\n",
       " 'helped': 8193,\n",
       " 'tablet': 16412,\n",
       " 'couple': 4310,\n",
       " 'years': 18769,\n",
       " 'pay': 12272,\n",
       " 'daily': 4608,\n",
       " 'challenge': 3358,\n",
       " 'starting': 15816,\n",
       " 'scratch': 14703,\n",
       " 'things': 16757,\n",
       " 'rate': 13514,\n",
       " 'server': 14898,\n",
       " 'wait': 18175,\n",
       " 'chatting': 3428,\n",
       " 'matches': 10511,\n",
       " 'rubbish': 14446,\n",
       " 'accurately': 895,\n",
       " 'interferes': 9084,\n",
       " 'regular': 13834,\n",
       " 'wifi': 18483,\n",
       " 'connections': 4048,\n",
       " 'certain': 3337,\n",
       " 'does': 5433,\n",
       " 'automatically': 1895,\n",
       " 'often': 11746,\n",
       " 'live': 10078,\n",
       " 'cape': 3158,\n",
       " 'fear': 6601,\n",
       " 'river': 14312,\n",
       " 'vessels': 17998,\n",
       " 'pass': 12222,\n",
       " 'from': 7180,\n",
       " 'atlantic': 1792,\n",
       " 'waterfront': 18268,\n",
       " 'cumbersome': 4516,\n",
       " 'movement': 11094,\n",
       " 'quickly': 13394,\n",
       " 'front': 7183,\n",
       " 'times': 16890,\n",
       " 'decided': 4736,\n",
       " 'ad': 954,\n",
       " 'version': 17986,\n",
       " 'others': 11956,\n",
       " 'creators': 4403,\n",
       " 'stuff': 16049,\n",
       " 'price': 13021,\n",
       " 'one': 11802,\n",
       " 'bargaining': 2126,\n",
       " 'thanks': 16681,\n",
       " 'bl': 2465,\n",
       " 'tried': 17225,\n",
       " 'via': 18006,\n",
       " 'facebook': 6457,\n",
       " 'create': 4391,\n",
       " 'stalled': 15783,\n",
       " 'verification': 17971,\n",
       " 'process': 13085,\n",
       " 'reopened': 13982,\n",
       " 'already': 1311,\n",
       " 'uninstalled': 17586,\n",
       " 'picher': 12509,\n",
       " 'contacts': 4102,\n",
       " 'shipped': 15028,\n",
       " 'efficient': 5837,\n",
       " 'premium': 12959,\n",
       " 'viewers': 18043,\n",
       " ...}"
      ]
     },
     "execution_count": 20,
     "metadata": {},
     "output_type": "execute_result"
    }
   ],
   "source": [
    "tf.vocabulary_"
   ]
  },
  {
   "cell_type": "code",
   "execution_count": 21,
   "metadata": {
    "collapsed": false
   },
   "outputs": [
    {
     "name": "stderr",
     "output_type": "stream",
     "text": [
      "C:\\Users\\Acer\\Anaconda3\\lib\\site-packages\\sklearn\\feature_extraction\\text.py:1059: FutureWarning: Conversion of the second argument of issubdtype from `float` to `np.floating` is deprecated. In future, it will be treated as `np.float64 == np.dtype(float).type`.\n",
      "  if hasattr(X, 'dtype') and np.issubdtype(X.dtype, np.float):\n"
     ]
    }
   ],
   "source": [
    "X_train_dtm=tf.transform(X_train)"
   ]
  },
  {
   "cell_type": "code",
   "execution_count": 22,
   "metadata": {
    "collapsed": false
   },
   "outputs": [
    {
     "name": "stderr",
     "output_type": "stream",
     "text": [
      "C:\\Users\\Acer\\Anaconda3\\lib\\site-packages\\sklearn\\feature_extraction\\text.py:1059: FutureWarning: Conversion of the second argument of issubdtype from `float` to `np.floating` is deprecated. In future, it will be treated as `np.float64 == np.dtype(float).type`.\n",
      "  if hasattr(X, 'dtype') and np.issubdtype(X.dtype, np.float):\n"
     ]
    }
   ],
   "source": [
    "X_test_dtm=tf.transform(X_test)"
   ]
  },
  {
   "cell_type": "code",
   "execution_count": 23,
   "metadata": {
    "collapsed": false
   },
   "outputs": [
    {
     "data": {
      "text/plain": [
       "<5x18935 sparse matrix of type '<class 'numpy.float64'>'\n",
       "\twith 80 stored elements in Compressed Sparse Row format>"
      ]
     },
     "execution_count": 23,
     "metadata": {},
     "output_type": "execute_result"
    }
   ],
   "source": [
    "X_train_dtm[0:5]"
   ]
  },
  {
   "cell_type": "code",
   "execution_count": 24,
   "metadata": {
    "collapsed": true
   },
   "outputs": [],
   "source": [
    "from sklearn.ensemble import RandomForestClassifier\n",
    "rf=RandomForestClassifier()"
   ]
  },
  {
   "cell_type": "code",
   "execution_count": 25,
   "metadata": {
    "collapsed": false
   },
   "outputs": [
    {
     "data": {
      "text/plain": [
       "RandomForestClassifier(bootstrap=True, class_weight=None, criterion='gini',\n",
       "            max_depth=None, max_features='auto', max_leaf_nodes=None,\n",
       "            min_impurity_split=1e-07, min_samples_leaf=1,\n",
       "            min_samples_split=2, min_weight_fraction_leaf=0.0,\n",
       "            n_estimators=10, n_jobs=1, oob_score=False, random_state=None,\n",
       "            verbose=0, warm_start=False)"
      ]
     },
     "execution_count": 25,
     "metadata": {},
     "output_type": "execute_result"
    }
   ],
   "source": [
    "rf.fit(X_train_dtm,y_train)"
   ]
  },
  {
   "cell_type": "code",
   "execution_count": 26,
   "metadata": {
    "collapsed": true
   },
   "outputs": [],
   "source": [
    "y_pred = rf.predict(X_test_dtm)"
   ]
  },
  {
   "cell_type": "code",
   "execution_count": 27,
   "metadata": {
    "collapsed": false
   },
   "outputs": [],
   "source": [
    "from sklearn.metrics import classification_report,accuracy_score,roc_auc_score"
   ]
  },
  {
   "cell_type": "code",
   "execution_count": 31,
   "metadata": {
    "collapsed": false
   },
   "outputs": [
    {
     "name": "stdout",
     "output_type": "stream",
     "text": [
      "             precision    recall  f1-score   support\n",
      "\n",
      "   Negative       0.86      0.71      0.78      2068\n",
      "    Neutral       0.82      0.81      0.82      1289\n",
      "   Positive       0.89      0.95      0.92      6000\n",
      "\n",
      "avg / total       0.87      0.88      0.87      9357\n",
      "\n"
     ]
    }
   ],
   "source": [
    "print(classification_report(y_true=y_test,y_pred=y_pred))"
   ]
  },
  {
   "cell_type": "code",
   "execution_count": 32,
   "metadata": {
    "collapsed": false
   },
   "outputs": [
    {
     "data": {
      "text/plain": [
       "0.8753874104948167"
      ]
     },
     "execution_count": 32,
     "metadata": {},
     "output_type": "execute_result"
    }
   ],
   "source": [
    "accuracy_score(y_pred=y_pred,y_true=y_test)"
   ]
  },
  {
   "cell_type": "code",
   "execution_count": 42,
   "metadata": {
    "collapsed": false
   },
   "outputs": [
    {
     "name": "stderr",
     "output_type": "stream",
     "text": [
      "C:\\Users\\Acer\\Anaconda3\\lib\\site-packages\\sklearn\\feature_extraction\\text.py:1059: FutureWarning: Conversion of the second argument of issubdtype from `float` to `np.floating` is deprecated. In future, it will be treated as `np.float64 == np.dtype(float).type`.\n",
      "  if hasattr(X, 'dtype') and np.issubdtype(X.dtype, np.float):\n"
     ]
    },
    {
     "data": {
      "text/plain": [
       "<7x18935 sparse matrix of type '<class 'numpy.float64'>'\n",
       "\twith 30 stored elements in Compressed Sparse Row format>"
      ]
     },
     "execution_count": 42,
     "metadata": {},
     "output_type": "execute_result"
    }
   ],
   "source": [
    "kata= ['An Amazing app for daily usage','Suck this awful app',\n",
    "       'Please give a better gameplay','Not even 1 star','bad gameplay and graphics'\n",
    "      ,\"i don't think this one is a good app\",\"Awful app\"]\n",
    "tf.transform(kata)"
   ]
  },
  {
   "cell_type": "code",
   "execution_count": null,
   "metadata": {
    "collapsed": true
   },
   "outputs": [],
   "source": [
    "from sklearn.ensemble import "
   ]
  },
  {
   "cell_type": "code",
   "execution_count": 43,
   "metadata": {
    "collapsed": true
   },
   "outputs": [],
   "source": [
    "from sklearn.linear_model import LogisticRegression\n",
    "from sklearn.tree import DecisionTreeClassifier\n",
    "from sklearn.naive_bayes import MultinomialNB\n",
    "from sklearn.neighbors import KNeighborsClassifier\n",
    "from sklearn.ensemble import AdaBoostClassifier,GradientBoostingClassifier,RandomForestClassifier,VotingClassifier"
   ]
  },
  {
   "cell_type": "code",
   "execution_count": 44,
   "metadata": {
    "collapsed": true
   },
   "outputs": [],
   "source": [
    "lr=LogisticRegression()\n",
    "dt=DecisionTreeClassifier()\n",
    "knn=KNeighborsClassifier()\n",
    "ada=AdaBoostClassifier()\n",
    "gbc=GradientBoostingClassifier()\n",
    "rf2=RandomForestClassifier()"
   ]
  },
  {
   "cell_type": "code",
   "execution_count": 45,
   "metadata": {
    "collapsed": true
   },
   "outputs": [],
   "source": [
    "estimator = [('logreg',lr),('decision_tree',dt),('ada',ada),('random_forest',rf2)]\n",
    "#Beberapa Model tidak dimuat karena kehabisan memori"
   ]
  },
  {
   "cell_type": "code",
   "execution_count": 58,
   "metadata": {
    "collapsed": false
   },
   "outputs": [
    {
     "name": "stdout",
     "output_type": "stream",
     "text": [
      "Model :logreg and acc: 0.8908838302874853\n",
      "Model :decision_tree and acc: 0.9060596344982366\n",
      "Model :ada and acc: 0.7991877738591429\n",
      "Model :random_forest and acc: 0.8778454632895158\n"
     ]
    }
   ],
   "source": [
    "for name,clf in estimator:\n",
    "    clf.fit(X_train_dtm,y_train)\n",
    "    y_pred=clf.predict(X_test_dtm)\n",
    "    print (\"Model :{} and acc: {}\".format(name,accuracy_score(y_pred=y_pred,y_true=y_test)))"
   ]
  },
  {
   "cell_type": "code",
   "execution_count": 59,
   "metadata": {
    "collapsed": false
   },
   "outputs": [
    {
     "name": "stderr",
     "output_type": "stream",
     "text": [
      "C:\\Users\\Acer\\Anaconda3\\lib\\site-packages\\sklearn\\preprocessing\\label.py:171: DeprecationWarning: The truth value of an empty array is ambiguous. Returning False, but in future this will result in an error. Use `array.size > 0` to check that an array is not empty.\n",
      "  if diff:\n"
     ]
    },
    {
     "data": {
      "text/plain": [
       "0.9198461045206797"
      ]
     },
     "execution_count": 59,
     "metadata": {},
     "output_type": "execute_result"
    }
   ],
   "source": [
    "vc=VotingClassifier(estimators=estimator)\n",
    "vc.fit(X_train_dtm,y_train)\n",
    "y_pred=vc.predict(X_test_dtm)\n",
    "accuracy_score(y_pred=y_pred,y_true=y_test)"
   ]
  },
  {
   "cell_type": "markdown",
   "metadata": {},
   "source": [
    "Voting Classifier memberikan hasil yang baik daripada per model"
   ]
  },
  {
   "cell_type": "code",
   "execution_count": 63,
   "metadata": {
    "collapsed": false
   },
   "outputs": [
    {
     "data": {
      "text/plain": [
       "0.8935556268034627"
      ]
     },
     "execution_count": 63,
     "metadata": {},
     "output_type": "execute_result"
    }
   ],
   "source": [
    "from sklearn.neural_network import MLPClassifier\n",
    "mlp=MLPClassifier(activation='tanh',hidden_layer_sizes=(5,10,5))\n",
    "mlp.fit(X_train_dtm,y_train)\n",
    "accuracy_score(y_pred=mlp.predict(X_test_dtm),y_true=y_test)"
   ]
  },
  {
   "cell_type": "code",
   "execution_count": 64,
   "metadata": {
    "collapsed": true
   },
   "outputs": [],
   "source": [
    "import xgboost as xgb\n",
    "import catboost as cb"
   ]
  },
  {
   "cell_type": "code",
   "execution_count": 67,
   "metadata": {
    "collapsed": true
   },
   "outputs": [],
   "source": [
    "xg_cl=xgb.XGBClassifier()\n",
    "cb_cl=cb.CatBoostClassifier()"
   ]
  },
  {
   "cell_type": "code",
   "execution_count": 69,
   "metadata": {
    "collapsed": false
   },
   "outputs": [
    {
     "name": "stdout",
     "output_type": "stream",
     "text": [
      "Desu\n"
     ]
    }
   ],
   "source": [
    "print(\"Desu\")"
   ]
  },
  {
   "cell_type": "code",
   "execution_count": 70,
   "metadata": {
    "collapsed": false
   },
   "outputs": [
    {
     "data": {
      "text/plain": [
       "XGBClassifier(base_score=0.5, booster='gbtree', colsample_bylevel=1,\n",
       "       colsample_bytree=1, gamma=0, learning_rate=0.1, max_delta_step=0,\n",
       "       max_depth=3, min_child_weight=1, missing=None, n_estimators=100,\n",
       "       n_jobs=1, nthread=None, objective='multi:softprob', random_state=0,\n",
       "       reg_alpha=0, reg_lambda=1, scale_pos_weight=1, seed=None,\n",
       "       silent=True, subsample=1)"
      ]
     },
     "execution_count": 70,
     "metadata": {},
     "output_type": "execute_result"
    }
   ],
   "source": [
    "xg_cl.fit(X_train_dtm,y_train,verbose=True)"
   ]
  },
  {
   "cell_type": "code",
   "execution_count": 71,
   "metadata": {
    "collapsed": false
   },
   "outputs": [
    {
     "name": "stderr",
     "output_type": "stream",
     "text": [
      "C:\\Users\\Acer\\Anaconda3\\lib\\site-packages\\sklearn\\preprocessing\\label.py:171: DeprecationWarning: The truth value of an empty array is ambiguous. Returning False, but in future this will result in an error. Use `array.size > 0` to check that an array is not empty.\n",
      "  if diff:\n"
     ]
    },
    {
     "data": {
      "text/plain": [
       "0.7424388158597841"
      ]
     },
     "execution_count": 71,
     "metadata": {},
     "output_type": "execute_result"
    }
   ],
   "source": [
    "y_pred=xg_cl.predict(X_test_dtm)\n",
    "accuracy_score(y_pred=y_pred,y_true=y_test)"
   ]
  },
  {
   "cell_type": "code",
   "execution_count": 73,
   "metadata": {
    "collapsed": false
   },
   "outputs": [
    {
     "ename": "MemoryError",
     "evalue": "",
     "output_type": "error",
     "traceback": [
      "\u001b[0;31m---------------------------------------------------------------------------\u001b[0m",
      "\u001b[0;31mMemoryError\u001b[0m                               Traceback (most recent call last)",
      "\u001b[0;32m<ipython-input-73-2c624412b53d>\u001b[0m in \u001b[0;36m<module>\u001b[0;34m()\u001b[0m\n\u001b[0;32m----> 1\u001b[0;31m \u001b[0mcb_cl\u001b[0m\u001b[1;33m.\u001b[0m\u001b[0mfit\u001b[0m\u001b[1;33m(\u001b[0m\u001b[0mX_train_dtm\u001b[0m\u001b[1;33m.\u001b[0m\u001b[0mtoarray\u001b[0m\u001b[1;33m(\u001b[0m\u001b[1;33m)\u001b[0m\u001b[1;33m,\u001b[0m\u001b[0my_train\u001b[0m\u001b[1;33m)\u001b[0m\u001b[1;33m\u001b[0m\u001b[0m\n\u001b[0m",
      "\u001b[0;32mC:\\Users\\Acer\\Anaconda3\\lib\\site-packages\\scipy\\sparse\\compressed.py\u001b[0m in \u001b[0;36mtoarray\u001b[0;34m(self, order, out)\u001b[0m\n\u001b[1;32m    918\u001b[0m     \u001b[1;32mdef\u001b[0m \u001b[0mtoarray\u001b[0m\u001b[1;33m(\u001b[0m\u001b[0mself\u001b[0m\u001b[1;33m,\u001b[0m \u001b[0morder\u001b[0m\u001b[1;33m=\u001b[0m\u001b[1;32mNone\u001b[0m\u001b[1;33m,\u001b[0m \u001b[0mout\u001b[0m\u001b[1;33m=\u001b[0m\u001b[1;32mNone\u001b[0m\u001b[1;33m)\u001b[0m\u001b[1;33m:\u001b[0m\u001b[1;33m\u001b[0m\u001b[0m\n\u001b[1;32m    919\u001b[0m         \u001b[1;34m\"\"\"See the docstring for `spmatrix.toarray`.\"\"\"\u001b[0m\u001b[1;33m\u001b[0m\u001b[0m\n\u001b[0;32m--> 920\u001b[0;31m         \u001b[1;32mreturn\u001b[0m \u001b[0mself\u001b[0m\u001b[1;33m.\u001b[0m\u001b[0mtocoo\u001b[0m\u001b[1;33m(\u001b[0m\u001b[0mcopy\u001b[0m\u001b[1;33m=\u001b[0m\u001b[1;32mFalse\u001b[0m\u001b[1;33m)\u001b[0m\u001b[1;33m.\u001b[0m\u001b[0mtoarray\u001b[0m\u001b[1;33m(\u001b[0m\u001b[0morder\u001b[0m\u001b[1;33m=\u001b[0m\u001b[0morder\u001b[0m\u001b[1;33m,\u001b[0m \u001b[0mout\u001b[0m\u001b[1;33m=\u001b[0m\u001b[0mout\u001b[0m\u001b[1;33m)\u001b[0m\u001b[1;33m\u001b[0m\u001b[0m\n\u001b[0m\u001b[1;32m    921\u001b[0m \u001b[1;33m\u001b[0m\u001b[0m\n\u001b[1;32m    922\u001b[0m     \u001b[1;31m##############################################################\u001b[0m\u001b[1;33m\u001b[0m\u001b[1;33m\u001b[0m\u001b[0m\n",
      "\u001b[0;32mC:\\Users\\Acer\\Anaconda3\\lib\\site-packages\\scipy\\sparse\\coo.py\u001b[0m in \u001b[0;36mtoarray\u001b[0;34m(self, order, out)\u001b[0m\n\u001b[1;32m    250\u001b[0m     \u001b[1;32mdef\u001b[0m \u001b[0mtoarray\u001b[0m\u001b[1;33m(\u001b[0m\u001b[0mself\u001b[0m\u001b[1;33m,\u001b[0m \u001b[0morder\u001b[0m\u001b[1;33m=\u001b[0m\u001b[1;32mNone\u001b[0m\u001b[1;33m,\u001b[0m \u001b[0mout\u001b[0m\u001b[1;33m=\u001b[0m\u001b[1;32mNone\u001b[0m\u001b[1;33m)\u001b[0m\u001b[1;33m:\u001b[0m\u001b[1;33m\u001b[0m\u001b[0m\n\u001b[1;32m    251\u001b[0m         \u001b[1;34m\"\"\"See the docstring for `spmatrix.toarray`.\"\"\"\u001b[0m\u001b[1;33m\u001b[0m\u001b[0m\n\u001b[0;32m--> 252\u001b[0;31m         \u001b[0mB\u001b[0m \u001b[1;33m=\u001b[0m \u001b[0mself\u001b[0m\u001b[1;33m.\u001b[0m\u001b[0m_process_toarray_args\u001b[0m\u001b[1;33m(\u001b[0m\u001b[0morder\u001b[0m\u001b[1;33m,\u001b[0m \u001b[0mout\u001b[0m\u001b[1;33m)\u001b[0m\u001b[1;33m\u001b[0m\u001b[0m\n\u001b[0m\u001b[1;32m    253\u001b[0m         \u001b[0mfortran\u001b[0m \u001b[1;33m=\u001b[0m \u001b[0mint\u001b[0m\u001b[1;33m(\u001b[0m\u001b[0mB\u001b[0m\u001b[1;33m.\u001b[0m\u001b[0mflags\u001b[0m\u001b[1;33m.\u001b[0m\u001b[0mf_contiguous\u001b[0m\u001b[1;33m)\u001b[0m\u001b[1;33m\u001b[0m\u001b[0m\n\u001b[1;32m    254\u001b[0m         \u001b[1;32mif\u001b[0m \u001b[1;32mnot\u001b[0m \u001b[0mfortran\u001b[0m \u001b[1;32mand\u001b[0m \u001b[1;32mnot\u001b[0m \u001b[0mB\u001b[0m\u001b[1;33m.\u001b[0m\u001b[0mflags\u001b[0m\u001b[1;33m.\u001b[0m\u001b[0mc_contiguous\u001b[0m\u001b[1;33m:\u001b[0m\u001b[1;33m\u001b[0m\u001b[0m\n",
      "\u001b[0;32mC:\\Users\\Acer\\Anaconda3\\lib\\site-packages\\scipy\\sparse\\base.py\u001b[0m in \u001b[0;36m_process_toarray_args\u001b[0;34m(self, order, out)\u001b[0m\n\u001b[1;32m   1007\u001b[0m             \u001b[1;32mreturn\u001b[0m \u001b[0mout\u001b[0m\u001b[1;33m\u001b[0m\u001b[0m\n\u001b[1;32m   1008\u001b[0m         \u001b[1;32melse\u001b[0m\u001b[1;33m:\u001b[0m\u001b[1;33m\u001b[0m\u001b[0m\n\u001b[0;32m-> 1009\u001b[0;31m             \u001b[1;32mreturn\u001b[0m \u001b[0mnp\u001b[0m\u001b[1;33m.\u001b[0m\u001b[0mzeros\u001b[0m\u001b[1;33m(\u001b[0m\u001b[0mself\u001b[0m\u001b[1;33m.\u001b[0m\u001b[0mshape\u001b[0m\u001b[1;33m,\u001b[0m \u001b[0mdtype\u001b[0m\u001b[1;33m=\u001b[0m\u001b[0mself\u001b[0m\u001b[1;33m.\u001b[0m\u001b[0mdtype\u001b[0m\u001b[1;33m,\u001b[0m \u001b[0morder\u001b[0m\u001b[1;33m=\u001b[0m\u001b[0morder\u001b[0m\u001b[1;33m)\u001b[0m\u001b[1;33m\u001b[0m\u001b[0m\n\u001b[0m\u001b[1;32m   1010\u001b[0m \u001b[1;33m\u001b[0m\u001b[0m\n\u001b[1;32m   1011\u001b[0m     \u001b[1;32mdef\u001b[0m \u001b[0m__numpy_ufunc__\u001b[0m\u001b[1;33m(\u001b[0m\u001b[0mself\u001b[0m\u001b[1;33m,\u001b[0m \u001b[0mfunc\u001b[0m\u001b[1;33m,\u001b[0m \u001b[0mmethod\u001b[0m\u001b[1;33m,\u001b[0m \u001b[0mpos\u001b[0m\u001b[1;33m,\u001b[0m \u001b[0minputs\u001b[0m\u001b[1;33m,\u001b[0m \u001b[1;33m**\u001b[0m\u001b[0mkwargs\u001b[0m\u001b[1;33m)\u001b[0m\u001b[1;33m:\u001b[0m\u001b[1;33m\u001b[0m\u001b[0m\n",
      "\u001b[0;31mMemoryError\u001b[0m: "
     ]
    }
   ],
   "source": []
  },
  {
   "cell_type": "markdown",
   "metadata": {},
   "source": [
    "Coba untuk mencari tahu sentiment Polarity"
   ]
  },
  {
   "cell_type": "code",
   "execution_count": 74,
   "metadata": {
    "collapsed": true
   },
   "outputs": [],
   "source": [
    "X=df.Translated_Review\n",
    "y=df.Sentiment_Polarity"
   ]
  },
  {
   "cell_type": "code",
   "execution_count": 82,
   "metadata": {
    "collapsed": false
   },
   "outputs": [],
   "source": [
    "X_train_polarity,X_test_polarity,y_train_polarity,y_test_polarity=train_test_split(X,y,test_size=0.2)"
   ]
  },
  {
   "cell_type": "code",
   "execution_count": 83,
   "metadata": {
    "collapsed": false
   },
   "outputs": [
    {
     "name": "stderr",
     "output_type": "stream",
     "text": [
      "C:\\Users\\Acer\\Anaconda3\\lib\\site-packages\\sklearn\\feature_extraction\\text.py:1059: FutureWarning: Conversion of the second argument of issubdtype from `float` to `np.floating` is deprecated. In future, it will be treated as `np.float64 == np.dtype(float).type`.\n",
      "  if hasattr(X, 'dtype') and np.issubdtype(X.dtype, np.float):\n"
     ]
    }
   ],
   "source": [
    "X_train_polarity_dtm=tf.transform(X_train_polarity)\n",
    "X_test_polarity_dtm=tf.transform(X_test_polarity)"
   ]
  },
  {
   "cell_type": "code",
   "execution_count": 88,
   "metadata": {
    "collapsed": false
   },
   "outputs": [],
   "source": [
    "from sklearn.tree import DecisionTreeRegressor\n",
    "from sklearn.ensemble import RandomForestRegressor\n",
    "dtr=DecisionTreeRegressor()\n",
    "rfr=RandomForestRegressor()"
   ]
  },
  {
   "cell_type": "code",
   "execution_count": 89,
   "metadata": {
    "collapsed": false
   },
   "outputs": [
    {
     "data": {
      "text/plain": [
       "DecisionTreeRegressor(criterion='mse', max_depth=None, max_features=None,\n",
       "           max_leaf_nodes=None, min_impurity_split=1e-07,\n",
       "           min_samples_leaf=1, min_samples_split=2,\n",
       "           min_weight_fraction_leaf=0.0, presort=False, random_state=None,\n",
       "           splitter='best')"
      ]
     },
     "execution_count": 89,
     "metadata": {},
     "output_type": "execute_result"
    }
   ],
   "source": [
    "dtr.fit(X_train_polarity_dtm,y_train_polarity)"
   ]
  },
  {
   "cell_type": "code",
   "execution_count": null,
   "metadata": {
    "collapsed": false
   },
   "outputs": [
    {
     "data": {
      "text/plain": [
       "0.18484142401774326"
      ]
     },
     "execution_count": 90,
     "metadata": {},
     "output_type": "execute_result"
    }
   ],
   "source": [
    "from sklearn.metrics import mean_squared_error as MSE\n",
    "y_pred=dtr.predict(X_test_polarity_dtm)\n",
    "MSE(y_pred,y_test_polarity)**(1/2)"
   ]
  },
  {
   "cell_type": "code",
   "execution_count": null,
   "metadata": {
    "collapsed": true
   },
   "outputs": [],
   "source": [
    "rfr.fit(X_train_polarity_dtm,y_train_polarity)"
   ]
  },
  {
   "cell_type": "code",
   "execution_count": null,
   "metadata": {
    "collapsed": true
   },
   "outputs": [],
   "source": [
    "y_pred=rfr.predict(X_test_polarity_dtm)\n",
    "MSE(y_pred,y_test_polarity)**(1/2)"
   ]
  },
  {
   "cell_type": "code",
   "execution_count": null,
   "metadata": {
    "collapsed": true
   },
   "outputs": [],
   "source": []
  }
 ],
 "metadata": {
  "kernelspec": {
   "display_name": "Python 3",
   "language": "python",
   "name": "python3"
  },
  "language_info": {
   "codemirror_mode": {
    "name": "ipython",
    "version": 3
   },
   "file_extension": ".py",
   "mimetype": "text/x-python",
   "name": "python",
   "nbconvert_exporter": "python",
   "pygments_lexer": "ipython3",
   "version": "3.6.0"
  }
 },
 "nbformat": 4,
 "nbformat_minor": 2
}
