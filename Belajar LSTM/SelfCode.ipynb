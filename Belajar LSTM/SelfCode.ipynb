{
 "cells": [
  {
   "cell_type": "code",
   "execution_count": 1,
   "metadata": {
    "collapsed": true
   },
   "outputs": [],
   "source": [
    "import pandas as pd\n",
    "import numpy as np\n",
    "from matplotlib import pyplot as plt\n",
    "import seaborn as sns\n",
    "import sklearn as sk"
   ]
  },
  {
   "cell_type": "code",
   "execution_count": 3,
   "metadata": {
    "collapsed": false
   },
   "outputs": [
    {
     "data": {
      "text/html": [
       "<div>\n",
       "<table border=\"1\" class=\"dataframe\">\n",
       "  <thead>\n",
       "    <tr style=\"text-align: right;\">\n",
       "      <th></th>\n",
       "      <th>Month</th>\n",
       "      <th>International airline passengers: monthly totals in thousands. Jan 49 ? Dec 60</th>\n",
       "    </tr>\n",
       "  </thead>\n",
       "  <tbody>\n",
       "    <tr>\n",
       "      <th>0</th>\n",
       "      <td>1949-01</td>\n",
       "      <td>112.0</td>\n",
       "    </tr>\n",
       "    <tr>\n",
       "      <th>1</th>\n",
       "      <td>1949-02</td>\n",
       "      <td>118.0</td>\n",
       "    </tr>\n",
       "    <tr>\n",
       "      <th>2</th>\n",
       "      <td>1949-03</td>\n",
       "      <td>132.0</td>\n",
       "    </tr>\n",
       "    <tr>\n",
       "      <th>3</th>\n",
       "      <td>1949-04</td>\n",
       "      <td>129.0</td>\n",
       "    </tr>\n",
       "    <tr>\n",
       "      <th>4</th>\n",
       "      <td>1949-05</td>\n",
       "      <td>121.0</td>\n",
       "    </tr>\n",
       "  </tbody>\n",
       "</table>\n",
       "</div>"
      ],
      "text/plain": [
       "     Month  \\\n",
       "0  1949-01   \n",
       "1  1949-02   \n",
       "2  1949-03   \n",
       "3  1949-04   \n",
       "4  1949-05   \n",
       "\n",
       "   International airline passengers: monthly totals in thousands. Jan 49 ? Dec 60  \n",
       "0                                              112.0                               \n",
       "1                                              118.0                               \n",
       "2                                              132.0                               \n",
       "3                                              129.0                               \n",
       "4                                              121.0                               "
      ]
     },
     "execution_count": 3,
     "metadata": {},
     "output_type": "execute_result"
    }
   ],
   "source": [
    "df=pd.read_csv(\"international-airline-passengers.csv\")\n",
    "df.head()"
   ]
  },
  {
   "cell_type": "code",
   "execution_count": 4,
   "metadata": {
    "collapsed": true
   },
   "outputs": [],
   "source": [
    "cols=[\"Month\",'Passenger']\n",
    "df.columns=cols"
   ]
  },
  {
   "cell_type": "code",
   "execution_count": 8,
   "metadata": {
    "collapsed": false
   },
   "outputs": [],
   "source": [
    "df.drop(144,inplace=True)"
   ]
  },
  {
   "cell_type": "code",
   "execution_count": 5,
   "metadata": {
    "collapsed": false
   },
   "outputs": [
    {
     "data": {
      "text/html": [
       "<div>\n",
       "<table border=\"1\" class=\"dataframe\">\n",
       "  <thead>\n",
       "    <tr style=\"text-align: right;\">\n",
       "      <th></th>\n",
       "      <th>Month</th>\n",
       "      <th>Passenger</th>\n",
       "    </tr>\n",
       "  </thead>\n",
       "  <tbody>\n",
       "    <tr>\n",
       "      <th>0</th>\n",
       "      <td>1949-01</td>\n",
       "      <td>112.0</td>\n",
       "    </tr>\n",
       "    <tr>\n",
       "      <th>1</th>\n",
       "      <td>1949-02</td>\n",
       "      <td>118.0</td>\n",
       "    </tr>\n",
       "    <tr>\n",
       "      <th>2</th>\n",
       "      <td>1949-03</td>\n",
       "      <td>132.0</td>\n",
       "    </tr>\n",
       "    <tr>\n",
       "      <th>3</th>\n",
       "      <td>1949-04</td>\n",
       "      <td>129.0</td>\n",
       "    </tr>\n",
       "    <tr>\n",
       "      <th>4</th>\n",
       "      <td>1949-05</td>\n",
       "      <td>121.0</td>\n",
       "    </tr>\n",
       "  </tbody>\n",
       "</table>\n",
       "</div>"
      ],
      "text/plain": [
       "     Month  Passenger\n",
       "0  1949-01      112.0\n",
       "1  1949-02      118.0\n",
       "2  1949-03      132.0\n",
       "3  1949-04      129.0\n",
       "4  1949-05      121.0"
      ]
     },
     "execution_count": 5,
     "metadata": {},
     "output_type": "execute_result"
    }
   ],
   "source": [
    "df.head()"
   ]
  },
  {
   "cell_type": "code",
   "execution_count": 6,
   "metadata": {
    "collapsed": false
   },
   "outputs": [
    {
     "data": {
      "text/html": [
       "<div>\n",
       "<table border=\"1\" class=\"dataframe\">\n",
       "  <thead>\n",
       "    <tr style=\"text-align: right;\">\n",
       "      <th></th>\n",
       "      <th>Month</th>\n",
       "      <th>Passenger</th>\n",
       "    </tr>\n",
       "  </thead>\n",
       "  <tbody>\n",
       "    <tr>\n",
       "      <th>140</th>\n",
       "      <td>1960-09</td>\n",
       "      <td>508.0</td>\n",
       "    </tr>\n",
       "    <tr>\n",
       "      <th>141</th>\n",
       "      <td>1960-10</td>\n",
       "      <td>461.0</td>\n",
       "    </tr>\n",
       "    <tr>\n",
       "      <th>142</th>\n",
       "      <td>1960-11</td>\n",
       "      <td>390.0</td>\n",
       "    </tr>\n",
       "    <tr>\n",
       "      <th>143</th>\n",
       "      <td>1960-12</td>\n",
       "      <td>432.0</td>\n",
       "    </tr>\n",
       "    <tr>\n",
       "      <th>144</th>\n",
       "      <td>International airline passengers: monthly tota...</td>\n",
       "      <td>NaN</td>\n",
       "    </tr>\n",
       "  </tbody>\n",
       "</table>\n",
       "</div>"
      ],
      "text/plain": [
       "                                                 Month  Passenger\n",
       "140                                            1960-09      508.0\n",
       "141                                            1960-10      461.0\n",
       "142                                            1960-11      390.0\n",
       "143                                            1960-12      432.0\n",
       "144  International airline passengers: monthly tota...        NaN"
      ]
     },
     "execution_count": 6,
     "metadata": {},
     "output_type": "execute_result"
    }
   ],
   "source": [
    "df.tail()"
   ]
  },
  {
   "cell_type": "code",
   "execution_count": 7,
   "metadata": {
    "collapsed": false
   },
   "outputs": [
    {
     "data": {
      "image/png": "[encoded data removed]",
      "text/plain": [
       "<matplotlib.figure.Figure at 0x10eaaa90>"
      ]
     },
     "metadata": {},
     "output_type": "display_data"
    }
   ],
   "source": [
    "plt.plot(df.Passenger,c=\"blue\")\n",
    "plt.show()"
   ]
  },
  {
   "cell_type": "code",
   "execution_count": 18,
   "metadata": {
    "collapsed": false
   },
   "outputs": [
    {
     "data": {
      "image/png": "[encoded data removed]",
      "text/plain": [
       "<matplotlib.figure.Figure at 0x13fb48d0>"
      ]
     },
     "metadata": {},
     "output_type": "display_data"
    }
   ],
   "source": [
    "sns.pointplot(df.Month,df.Passenger)\n",
    "plt.show()"
   ]
  },
  {
   "cell_type": "code",
   "execution_count": 8,
   "metadata": {
    "collapsed": false
   },
   "outputs": [],
   "source": [
    "dataframe = pd.read_csv('international-airline-passengers.csv', usecols=[1], engine='python', skipfooter=3)"
   ]
  },
  {
   "cell_type": "code",
   "execution_count": 9,
   "metadata": {
    "collapsed": false
   },
   "outputs": [
    {
     "data": {
      "text/html": [
       "<div>\n",
       "<table border=\"1\" class=\"dataframe\">\n",
       "  <thead>\n",
       "    <tr style=\"text-align: right;\">\n",
       "      <th></th>\n",
       "      <th>International airline passengers: monthly totals in thousands. Jan 49 ? Dec 60</th>\n",
       "    </tr>\n",
       "  </thead>\n",
       "  <tbody>\n",
       "    <tr>\n",
       "      <th>139</th>\n",
       "      <td>606</td>\n",
       "    </tr>\n",
       "    <tr>\n",
       "      <th>140</th>\n",
       "      <td>508</td>\n",
       "    </tr>\n",
       "    <tr>\n",
       "      <th>141</th>\n",
       "      <td>461</td>\n",
       "    </tr>\n",
       "    <tr>\n",
       "      <th>142</th>\n",
       "      <td>390</td>\n",
       "    </tr>\n",
       "    <tr>\n",
       "      <th>143</th>\n",
       "      <td>432</td>\n",
       "    </tr>\n",
       "  </tbody>\n",
       "</table>\n",
       "</div>"
      ],
      "text/plain": [
       "     International airline passengers: monthly totals in thousands. Jan 49 ? Dec 60\n",
       "139                                                606                             \n",
       "140                                                508                             \n",
       "141                                                461                             \n",
       "142                                                390                             \n",
       "143                                                432                             "
      ]
     },
     "execution_count": 9,
     "metadata": {},
     "output_type": "execute_result"
    }
   ],
   "source": [
    "dataframe.tail()"
   ]
  },
  {
   "cell_type": "code",
   "execution_count": 10,
   "metadata": {
    "collapsed": false
   },
   "outputs": [
    {
     "name": "stderr",
     "output_type": "stream",
     "text": [
      "Using TensorFlow backend.\n"
     ]
    }
   ],
   "source": [
    "from keras.models import Sequential\n",
    "from keras.layers import Dense,LSTM\n",
    "#(Long Short Term Memory)\n",
    "#Short Long term Memory"
   ]
  },
  {
   "cell_type": "code",
   "execution_count": 12,
   "metadata": {
    "collapsed": false
   },
   "outputs": [],
   "source": [
    "dataset=dataframe.values.astype(np.float32)"
   ]
  },
  {
   "cell_type": "code",
   "execution_count": 15,
   "metadata": {
    "collapsed": false
   },
   "outputs": [
    {
     "data": {
      "text/plain": [
       "array([[112.],\n",
       "       [118.],\n",
       "       [132.],\n",
       "       [129.],\n",
       "       [121.]], dtype=float32)"
      ]
     },
     "execution_count": 15,
     "metadata": {},
     "output_type": "execute_result"
    }
   ],
   "source": [
    "dataset[0:5]"
   ]
  },
  {
   "cell_type": "code",
   "execution_count": 16,
   "metadata": {
    "collapsed": true
   },
   "outputs": [],
   "source": [
    "from sklearn.preprocessing import MinMaxScaler\n",
    "from sklearn.metrics import mean_absolute_error,mean_squared_error"
   ]
  },
  {
   "cell_type": "code",
   "execution_count": 17,
   "metadata": {
    "collapsed": true
   },
   "outputs": [],
   "source": [
    "scaler=MinMaxScaler(feature_range=(0,1))"
   ]
  },
  {
   "cell_type": "code",
   "execution_count": 18,
   "metadata": {
    "collapsed": true
   },
   "outputs": [],
   "source": [
    "dataset=scaler.fit_transform(dataset)"
   ]
  },
  {
   "cell_type": "code",
   "execution_count": 19,
   "metadata": {
    "collapsed": true
   },
   "outputs": [],
   "source": [
    "train_size= int(len(dataset)*0.8)\n",
    "test_size= len(dataset)-train_size\n",
    "train,test=dataset[0:train_size],dataset[train_size:len(dataset)]"
   ]
  },
  {
   "cell_type": "code",
   "execution_count": 20,
   "metadata": {
    "collapsed": false
   },
   "outputs": [
    {
     "data": {
      "text/plain": [
       "(115, 1)"
      ]
     },
     "execution_count": 20,
     "metadata": {},
     "output_type": "execute_result"
    }
   ],
   "source": [
    "train.shape"
   ]
  },
  {
   "cell_type": "code",
   "execution_count": 21,
   "metadata": {
    "collapsed": false
   },
   "outputs": [
    {
     "data": {
      "text/plain": [
       "(29, 1)"
      ]
     },
     "execution_count": 21,
     "metadata": {},
     "output_type": "execute_result"
    }
   ],
   "source": [
    "test.shape"
   ]
  },
  {
   "cell_type": "code",
   "execution_count": 22,
   "metadata": {
    "collapsed": false
   },
   "outputs": [
    {
     "data": {
      "text/plain": [
       "(144, 1)"
      ]
     },
     "execution_count": 22,
     "metadata": {},
     "output_type": "execute_result"
    }
   ],
   "source": [
    "dataset.shape"
   ]
  },
  {
   "cell_type": "code",
   "execution_count": 23,
   "metadata": {
    "collapsed": true
   },
   "outputs": [],
   "source": [
    "def create_dataset(dataset, look_back=1):\n",
    "\tdataX, dataY = [], []\n",
    "\tfor i in range(len(dataset)-look_back-1):\n",
    "\t\ta = dataset[i:(i+look_back), 0]\n",
    "\t\tdataX.append(a)\n",
    "\t\tdataY.append(dataset[i + look_back, 0])\n",
    "\treturn np.array(dataX), np.array(dataY)"
   ]
  },
  {
   "cell_type": "code",
   "execution_count": 24,
   "metadata": {
    "collapsed": false
   },
   "outputs": [],
   "source": [
    "ssX,ssY = create_dataset(train)"
   ]
  },
  {
   "cell_type": "code",
   "execution_count": 25,
   "metadata": {
    "collapsed": false
   },
   "outputs": [
    {
     "data": {
      "text/plain": [
       "array([[0.01544401],\n",
       "       [0.02702703],\n",
       "       [0.05405405],\n",
       "       [0.04826255],\n",
       "       [0.03281853],\n",
       "       [0.05984557]], dtype=float32)"
      ]
     },
     "execution_count": 25,
     "metadata": {},
     "output_type": "execute_result"
    }
   ],
   "source": [
    "ssX[0:6]"
   ]
  },
  {
   "cell_type": "code",
   "execution_count": 26,
   "metadata": {
    "collapsed": false
   },
   "outputs": [
    {
     "data": {
      "text/plain": [
       "array([0.02702703, 0.05405405, 0.04826255, 0.03281853, 0.05984557],\n",
       "      dtype=float32)"
      ]
     },
     "execution_count": 26,
     "metadata": {},
     "output_type": "execute_result"
    }
   ],
   "source": [
    "ssY[0:5]"
   ]
  },
  {
   "cell_type": "code",
   "execution_count": 27,
   "metadata": {
    "collapsed": true
   },
   "outputs": [],
   "source": [
    "look_back=5\n",
    "trainX,trainY=create_dataset(train,look_back)\n",
    "testX,testY=create_dataset(test,look_back)"
   ]
  },
  {
   "cell_type": "code",
   "execution_count": 28,
   "metadata": {
    "collapsed": false
   },
   "outputs": [
    {
     "data": {
      "text/plain": [
       "(109, 5)"
      ]
     },
     "execution_count": 28,
     "metadata": {},
     "output_type": "execute_result"
    }
   ],
   "source": [
    "trainX.shape"
   ]
  },
  {
   "cell_type": "code",
   "execution_count": 29,
   "metadata": {
    "collapsed": false
   },
   "outputs": [
    {
     "data": {
      "text/plain": [
       "array([[0.01544401, 0.02702703, 0.05405405, 0.04826255, 0.03281853],\n",
       "       [0.02702703, 0.05405405, 0.04826255, 0.03281853, 0.05984557],\n",
       "       [0.05405405, 0.04826255, 0.03281853, 0.05984557, 0.08494207],\n",
       "       [0.04826255, 0.03281853, 0.05984557, 0.08494207, 0.08494207],\n",
       "       [0.03281853, 0.05984557, 0.08494207, 0.08494207, 0.06177607],\n",
       "       [0.05984557, 0.08494207, 0.08494207, 0.06177607, 0.02895753]],\n",
       "      dtype=float32)"
      ]
     },
     "execution_count": 29,
     "metadata": {},
     "output_type": "execute_result"
    }
   ],
   "source": [
    "trainX[0:6]"
   ]
  },
  {
   "cell_type": "code",
   "execution_count": 30,
   "metadata": {
    "collapsed": false
   },
   "outputs": [
    {
     "data": {
      "text/plain": [
       "(109,)"
      ]
     },
     "execution_count": 30,
     "metadata": {},
     "output_type": "execute_result"
    }
   ],
   "source": [
    "trainY.shape"
   ]
  },
  {
   "cell_type": "code",
   "execution_count": 31,
   "metadata": {
    "collapsed": false
   },
   "outputs": [
    {
     "data": {
      "text/plain": [
       "array([0.05984557, 0.08494207, 0.08494207, 0.06177607, 0.02895753],\n",
       "      dtype=float32)"
      ]
     },
     "execution_count": 31,
     "metadata": {},
     "output_type": "execute_result"
    }
   ],
   "source": [
    "trainY[0:5]"
   ]
  },
  {
   "cell_type": "code",
   "execution_count": 32,
   "metadata": {
    "collapsed": false
   },
   "outputs": [
    {
     "data": {
      "text/plain": [
       "(23, 5)"
      ]
     },
     "execution_count": 32,
     "metadata": {},
     "output_type": "execute_result"
    }
   ],
   "source": [
    "testX.shape"
   ]
  },
  {
   "cell_type": "code",
   "execution_count": 33,
   "metadata": {
    "collapsed": false
   },
   "outputs": [
    {
     "data": {
      "text/plain": [
       "(23,)"
      ]
     },
     "execution_count": 33,
     "metadata": {},
     "output_type": "execute_result"
    }
   ],
   "source": [
    "testY.shape"
   ]
  },
  {
   "cell_type": "code",
   "execution_count": 34,
   "metadata": {
    "collapsed": false
   },
   "outputs": [],
   "source": [
    "# reshape input to be [samples, time steps, features]\n",
    "trainX = np.reshape(trainX, (trainX.shape[0], 1, trainX.shape[1]))\n",
    "testX = np.reshape(testX, (testX.shape[0], 1, testX.shape[1]))"
   ]
  },
  {
   "cell_type": "code",
   "execution_count": 35,
   "metadata": {
    "collapsed": false
   },
   "outputs": [
    {
     "data": {
      "text/plain": [
       "(109, 1, 5)"
      ]
     },
     "execution_count": 35,
     "metadata": {},
     "output_type": "execute_result"
    }
   ],
   "source": [
    "trainX.shape"
   ]
  },
  {
   "cell_type": "code",
   "execution_count": 36,
   "metadata": {
    "collapsed": false
   },
   "outputs": [
    {
     "data": {
      "text/plain": [
       "(23, 1, 5)"
      ]
     },
     "execution_count": 36,
     "metadata": {},
     "output_type": "execute_result"
    }
   ],
   "source": [
    "testX.shape"
   ]
  },
  {
   "cell_type": "code",
   "execution_count": 37,
   "metadata": {
    "collapsed": false
   },
   "outputs": [
    {
     "data": {
      "text/plain": [
       "array([[[0.01544401, 0.02702703, 0.05405405, 0.04826255, 0.03281853]],\n",
       "\n",
       "       [[0.02702703, 0.05405405, 0.04826255, 0.03281853, 0.05984557]],\n",
       "\n",
       "       [[0.05405405, 0.04826255, 0.03281853, 0.05984557, 0.08494207]],\n",
       "\n",
       "       [[0.04826255, 0.03281853, 0.05984557, 0.08494207, 0.08494207]],\n",
       "\n",
       "       [[0.03281853, 0.05984557, 0.08494207, 0.08494207, 0.06177607]],\n",
       "\n",
       "       [[0.05984557, 0.08494207, 0.08494207, 0.06177607, 0.02895753]]],\n",
       "      dtype=float32)"
      ]
     },
     "execution_count": 37,
     "metadata": {},
     "output_type": "execute_result"
    }
   ],
   "source": [
    "trainX[0:6]"
   ]
  },
  {
   "cell_type": "code",
   "execution_count": 38,
   "metadata": {
    "collapsed": false
   },
   "outputs": [
    {
     "data": {
      "text/plain": [
       "array([0.05984557, 0.08494207, 0.08494207, 0.06177607, 0.02895753],\n",
       "      dtype=float32)"
      ]
     },
     "execution_count": 38,
     "metadata": {},
     "output_type": "execute_result"
    }
   ],
   "source": [
    "trainY[0:5]"
   ]
  },
  {
   "cell_type": "code",
   "execution_count": 39,
   "metadata": {
    "collapsed": false
   },
   "outputs": [],
   "source": [
    "model=Sequential()\n",
    "model.add(LSTM(4,input_shape=(1,look_back)))\n",
    "model.add(Dense(10,activation='tanh'))\n",
    "model.add(Dense(1,activation='relu'))\n",
    "model.compile(loss=\"mean_squared_error\",optimizer=\"adam\",metrics=['mean_squared_error'])"
   ]
  },
  {
   "cell_type": "code",
   "execution_count": 40,
   "metadata": {
    "collapsed": false
   },
   "outputs": [
    {
     "name": "stdout",
     "output_type": "stream",
     "text": [
      "Epoch 1/150\n",
      " - 3s - loss: 0.0234 - mean_squared_error: 0.0234\n",
      "Epoch 2/150\n",
      " - 1s - loss: 0.0132 - mean_squared_error: 0.0132\n",
      "Epoch 3/150\n",
      " - 1s - loss: 0.0105 - mean_squared_error: 0.0105\n",
      "Epoch 4/150\n",
      " - 1s - loss: 0.0090 - mean_squared_error: 0.0090\n",
      "Epoch 5/150\n",
      " - 1s - loss: 0.0078 - mean_squared_error: 0.0078\n",
      "Epoch 6/150\n",
      " - 1s - loss: 0.0063 - mean_squared_error: 0.0063\n",
      "Epoch 7/150\n",
      " - 1s - loss: 0.0052 - mean_squared_error: 0.0052\n",
      "Epoch 8/150\n",
      " - 1s - loss: 0.0047 - mean_squared_error: 0.0047\n",
      "Epoch 9/150\n",
      " - 1s - loss: 0.0041 - mean_squared_error: 0.0041\n",
      "Epoch 10/150\n",
      " - 1s - loss: 0.0036 - mean_squared_error: 0.0036\n",
      "Epoch 11/150\n",
      " - 1s - loss: 0.0035 - mean_squared_error: 0.0035\n",
      "Epoch 12/150\n",
      " - 1s - loss: 0.0034 - mean_squared_error: 0.0034\n",
      "Epoch 13/150\n",
      " - 1s - loss: 0.0033 - mean_squared_error: 0.0033\n",
      "Epoch 14/150\n",
      " - 1s - loss: 0.0034 - mean_squared_error: 0.0034\n",
      "Epoch 15/150\n",
      " - 1s - loss: 0.0033 - mean_squared_error: 0.0033\n",
      "Epoch 16/150\n",
      " - 1s - loss: 0.0033 - mean_squared_error: 0.0033\n",
      "Epoch 17/150\n",
      " - 1s - loss: 0.0034 - mean_squared_error: 0.0034\n",
      "Epoch 18/150\n",
      " - 1s - loss: 0.0033 - mean_squared_error: 0.0033\n",
      "Epoch 19/150\n",
      " - 1s - loss: 0.0033 - mean_squared_error: 0.0033\n",
      "Epoch 20/150\n",
      " - 1s - loss: 0.0032 - mean_squared_error: 0.0032\n",
      "Epoch 21/150\n",
      " - 1s - loss: 0.0032 - mean_squared_error: 0.0032\n",
      "Epoch 22/150\n",
      " - 1s - loss: 0.0032 - mean_squared_error: 0.0032\n",
      "Epoch 23/150\n",
      " - 1s - loss: 0.0032 - mean_squared_error: 0.0032\n",
      "Epoch 24/150\n",
      " - 0s - loss: 0.0033 - mean_squared_error: 0.0033\n",
      "Epoch 25/150\n",
      " - 1s - loss: 0.0036 - mean_squared_error: 0.0036\n",
      "Epoch 26/150\n",
      " - 1s - loss: 0.0033 - mean_squared_error: 0.0033\n",
      "Epoch 27/150\n",
      " - 1s - loss: 0.0029 - mean_squared_error: 0.0029\n",
      "Epoch 28/150\n",
      " - 0s - loss: 0.0030 - mean_squared_error: 0.0030\n",
      "Epoch 29/150\n",
      " - 0s - loss: 0.0036 - mean_squared_error: 0.0036\n",
      "Epoch 30/150\n",
      " - 1s - loss: 0.0031 - mean_squared_error: 0.0031\n",
      "Epoch 31/150\n",
      " - 1s - loss: 0.0031 - mean_squared_error: 0.0031\n",
      "Epoch 32/150\n",
      " - 1s - loss: 0.0032 - mean_squared_error: 0.0032\n",
      "Epoch 33/150\n",
      " - 0s - loss: 0.0029 - mean_squared_error: 0.0029\n",
      "Epoch 34/150\n",
      " - 0s - loss: 0.0032 - mean_squared_error: 0.0032\n",
      "Epoch 35/150\n",
      " - 0s - loss: 0.0029 - mean_squared_error: 0.0029\n",
      "Epoch 36/150\n",
      " - 1s - loss: 0.0030 - mean_squared_error: 0.0030\n",
      "Epoch 37/150\n",
      " - 1s - loss: 0.0030 - mean_squared_error: 0.0030\n",
      "Epoch 38/150\n",
      " - 0s - loss: 0.0032 - mean_squared_error: 0.0032\n",
      "Epoch 39/150\n",
      " - 0s - loss: 0.0031 - mean_squared_error: 0.0031\n",
      "Epoch 40/150\n",
      " - 0s - loss: 0.0028 - mean_squared_error: 0.0028\n",
      "Epoch 41/150\n",
      " - 0s - loss: 0.0029 - mean_squared_error: 0.0029\n",
      "Epoch 42/150\n",
      " - 0s - loss: 0.0029 - mean_squared_error: 0.0029\n",
      "Epoch 43/150\n",
      " - 0s - loss: 0.0032 - mean_squared_error: 0.0032\n",
      "Epoch 44/150\n",
      " - 1s - loss: 0.0030 - mean_squared_error: 0.0030\n",
      "Epoch 45/150\n",
      " - 1s - loss: 0.0028 - mean_squared_error: 0.0028\n",
      "Epoch 46/150\n",
      " - 1s - loss: 0.0027 - mean_squared_error: 0.0027\n",
      "Epoch 47/150\n",
      " - 1s - loss: 0.0029 - mean_squared_error: 0.0029\n",
      "Epoch 48/150\n",
      " - 1s - loss: 0.0030 - mean_squared_error: 0.0030\n",
      "Epoch 49/150\n",
      " - 1s - loss: 0.0028 - mean_squared_error: 0.0028\n",
      "Epoch 50/150\n",
      " - 1s - loss: 0.0029 - mean_squared_error: 0.0029\n",
      "Epoch 51/150\n",
      " - 1s - loss: 0.0028 - mean_squared_error: 0.0028\n",
      "Epoch 52/150\n",
      " - 1s - loss: 0.0028 - mean_squared_error: 0.0028\n",
      "Epoch 53/150\n",
      " - 1s - loss: 0.0028 - mean_squared_error: 0.0028\n",
      "Epoch 54/150\n",
      " - 1s - loss: 0.0029 - mean_squared_error: 0.0029\n",
      "Epoch 55/150\n",
      " - 1s - loss: 0.0028 - mean_squared_error: 0.0028\n",
      "Epoch 56/150\n",
      " - 1s - loss: 0.0029 - mean_squared_error: 0.0029\n",
      "Epoch 57/150\n",
      " - 1s - loss: 0.0028 - mean_squared_error: 0.0028\n",
      "Epoch 58/150\n",
      " - 0s - loss: 0.0028 - mean_squared_error: 0.0028\n",
      "Epoch 59/150\n",
      " - 0s - loss: 0.0029 - mean_squared_error: 0.0029\n",
      "Epoch 60/150\n",
      " - 0s - loss: 0.0026 - mean_squared_error: 0.0026\n",
      "Epoch 61/150\n",
      " - 1s - loss: 0.0027 - mean_squared_error: 0.0027\n",
      "Epoch 62/150\n",
      " - 1s - loss: 0.0029 - mean_squared_error: 0.0029\n",
      "Epoch 63/150\n",
      " - 1s - loss: 0.0027 - mean_squared_error: 0.0027\n",
      "Epoch 64/150\n",
      " - 1s - loss: 0.0028 - mean_squared_error: 0.0028\n",
      "Epoch 65/150\n",
      " - 1s - loss: 0.0026 - mean_squared_error: 0.0026\n",
      "Epoch 66/150\n",
      " - 1s - loss: 0.0030 - mean_squared_error: 0.0030\n",
      "Epoch 67/150\n",
      " - 1s - loss: 0.0027 - mean_squared_error: 0.0027\n",
      "Epoch 68/150\n",
      " - 1s - loss: 0.0026 - mean_squared_error: 0.0026\n",
      "Epoch 69/150\n",
      " - 1s - loss: 0.0026 - mean_squared_error: 0.0026\n",
      "Epoch 70/150\n",
      " - 1s - loss: 0.0030 - mean_squared_error: 0.0030\n",
      "Epoch 71/150\n",
      " - 0s - loss: 0.0028 - mean_squared_error: 0.0028\n",
      "Epoch 72/150\n",
      " - 0s - loss: 0.0026 - mean_squared_error: 0.0026\n",
      "Epoch 73/150\n",
      " - 0s - loss: 0.0026 - mean_squared_error: 0.0026\n",
      "Epoch 74/150\n",
      " - 0s - loss: 0.0027 - mean_squared_error: 0.0027\n",
      "Epoch 75/150\n",
      " - 0s - loss: 0.0028 - mean_squared_error: 0.0028\n",
      "Epoch 76/150\n",
      " - 0s - loss: 0.0026 - mean_squared_error: 0.0026\n",
      "Epoch 77/150\n",
      " - 0s - loss: 0.0026 - mean_squared_error: 0.0026\n",
      "Epoch 78/150\n",
      " - 0s - loss: 0.0028 - mean_squared_error: 0.0028\n",
      "Epoch 79/150\n",
      " - 1s - loss: 0.0025 - mean_squared_error: 0.0025\n",
      "Epoch 80/150\n",
      " - 1s - loss: 0.0026 - mean_squared_error: 0.0026\n",
      "Epoch 81/150\n",
      " - 1s - loss: 0.0027 - mean_squared_error: 0.0027\n",
      "Epoch 82/150\n",
      " - 1s - loss: 0.0027 - mean_squared_error: 0.0027\n",
      "Epoch 83/150\n",
      " - 1s - loss: 0.0027 - mean_squared_error: 0.0027\n",
      "Epoch 84/150\n",
      " - 1s - loss: 0.0027 - mean_squared_error: 0.0027\n",
      "Epoch 85/150\n",
      " - 1s - loss: 0.0026 - mean_squared_error: 0.0026\n",
      "Epoch 86/150\n",
      " - 1s - loss: 0.0026 - mean_squared_error: 0.0026\n",
      "Epoch 87/150\n",
      " - 1s - loss: 0.0027 - mean_squared_error: 0.0027\n",
      "Epoch 88/150\n",
      " - 1s - loss: 0.0025 - mean_squared_error: 0.0025\n",
      "Epoch 89/150\n",
      " - 0s - loss: 0.0025 - mean_squared_error: 0.0025\n",
      "Epoch 90/150\n",
      " - 1s - loss: 0.0027 - mean_squared_error: 0.0027\n",
      "Epoch 91/150\n",
      " - 1s - loss: 0.0026 - mean_squared_error: 0.0026\n",
      "Epoch 92/150\n",
      " - 1s - loss: 0.0026 - mean_squared_error: 0.0026\n",
      "Epoch 93/150\n",
      " - 1s - loss: 0.0026 - mean_squared_error: 0.0026\n",
      "Epoch 94/150\n",
      " - 1s - loss: 0.0024 - mean_squared_error: 0.0024\n",
      "Epoch 95/150\n",
      " - 1s - loss: 0.0026 - mean_squared_error: 0.0026\n",
      "Epoch 96/150\n",
      " - 1s - loss: 0.0026 - mean_squared_error: 0.0026\n",
      "Epoch 97/150\n",
      " - 1s - loss: 0.0026 - mean_squared_error: 0.0026\n",
      "Epoch 98/150\n",
      " - 1s - loss: 0.0026 - mean_squared_error: 0.0026\n",
      "Epoch 99/150\n",
      " - 1s - loss: 0.0024 - mean_squared_error: 0.0024\n",
      "Epoch 100/150\n",
      " - 1s - loss: 0.0025 - mean_squared_error: 0.0025\n",
      "Epoch 101/150\n",
      " - 1s - loss: 0.0027 - mean_squared_error: 0.0027\n",
      "Epoch 102/150\n",
      " - 1s - loss: 0.0029 - mean_squared_error: 0.0029\n",
      "Epoch 103/150\n",
      " - 1s - loss: 0.0025 - mean_squared_error: 0.0025\n",
      "Epoch 104/150\n",
      " - 1s - loss: 0.0027 - mean_squared_error: 0.0027\n",
      "Epoch 105/150\n",
      " - 1s - loss: 0.0025 - mean_squared_error: 0.0025\n",
      "Epoch 106/150\n",
      " - 1s - loss: 0.0025 - mean_squared_error: 0.0025\n",
      "Epoch 107/150\n",
      " - 1s - loss: 0.0025 - mean_squared_error: 0.0025\n",
      "Epoch 108/150\n",
      " - 1s - loss: 0.0025 - mean_squared_error: 0.0025\n",
      "Epoch 109/150\n",
      " - 1s - loss: 0.0025 - mean_squared_error: 0.0025\n",
      "Epoch 110/150\n",
      " - 1s - loss: 0.0025 - mean_squared_error: 0.0025\n",
      "Epoch 111/150\n",
      " - 1s - loss: 0.0024 - mean_squared_error: 0.0024\n",
      "Epoch 112/150\n",
      " - 1s - loss: 0.0023 - mean_squared_error: 0.0023\n",
      "Epoch 113/150\n",
      " - 1s - loss: 0.0025 - mean_squared_error: 0.0025\n",
      "Epoch 114/150\n",
      " - 1s - loss: 0.0024 - mean_squared_error: 0.0024\n",
      "Epoch 115/150\n",
      " - 1s - loss: 0.0028 - mean_squared_error: 0.0028\n",
      "Epoch 116/150\n",
      " - 1s - loss: 0.0023 - mean_squared_error: 0.0023\n",
      "Epoch 117/150\n",
      " - 1s - loss: 0.0026 - mean_squared_error: 0.0026\n",
      "Epoch 118/150\n",
      " - 1s - loss: 0.0025 - mean_squared_error: 0.0025\n",
      "Epoch 119/150\n",
      " - 1s - loss: 0.0025 - mean_squared_error: 0.0025\n",
      "Epoch 120/150\n",
      " - 1s - loss: 0.0027 - mean_squared_error: 0.0027\n",
      "Epoch 121/150\n",
      " - 1s - loss: 0.0024 - mean_squared_error: 0.0024\n",
      "Epoch 122/150\n",
      " - 1s - loss: 0.0026 - mean_squared_error: 0.0026\n",
      "Epoch 123/150\n",
      " - 1s - loss: 0.0026 - mean_squared_error: 0.0026\n",
      "Epoch 124/150\n",
      " - 1s - loss: 0.0025 - mean_squared_error: 0.0025\n",
      "Epoch 125/150\n",
      " - 1s - loss: 0.0027 - mean_squared_error: 0.0027\n",
      "Epoch 126/150\n",
      " - 1s - loss: 0.0024 - mean_squared_error: 0.0024\n",
      "Epoch 127/150\n",
      " - 1s - loss: 0.0025 - mean_squared_error: 0.0025\n",
      "Epoch 128/150\n",
      " - 0s - loss: 0.0025 - mean_squared_error: 0.0025\n",
      "Epoch 129/150\n",
      " - 0s - loss: 0.0025 - mean_squared_error: 0.0025\n",
      "Epoch 130/150\n",
      " - 0s - loss: 0.0025 - mean_squared_error: 0.0025\n",
      "Epoch 131/150\n",
      " - 0s - loss: 0.0025 - mean_squared_error: 0.0025\n",
      "Epoch 132/150\n",
      " - 1s - loss: 0.0026 - mean_squared_error: 0.0026\n",
      "Epoch 133/150\n",
      " - 0s - loss: 0.0025 - mean_squared_error: 0.0025\n",
      "Epoch 134/150\n",
      " - 0s - loss: 0.0024 - mean_squared_error: 0.0024\n",
      "Epoch 135/150\n",
      " - 0s - loss: 0.0026 - mean_squared_error: 0.0026\n",
      "Epoch 136/150\n",
      " - 0s - loss: 0.0027 - mean_squared_error: 0.0027\n",
      "Epoch 137/150\n",
      " - 0s - loss: 0.0025 - mean_squared_error: 0.0025\n",
      "Epoch 138/150\n",
      " - 0s - loss: 0.0026 - mean_squared_error: 0.0026\n",
      "Epoch 139/150\n",
      " - 1s - loss: 0.0026 - mean_squared_error: 0.0026\n",
      "Epoch 140/150\n",
      " - 0s - loss: 0.0024 - mean_squared_error: 0.0024\n",
      "Epoch 141/150\n",
      " - 0s - loss: 0.0023 - mean_squared_error: 0.0023\n",
      "Epoch 142/150\n",
      " - 0s - loss: 0.0022 - mean_squared_error: 0.0022\n",
      "Epoch 143/150\n",
      " - 0s - loss: 0.0025 - mean_squared_error: 0.0025\n",
      "Epoch 144/150\n",
      " - 0s - loss: 0.0025 - mean_squared_error: 0.0025\n",
      "Epoch 145/150\n",
      " - 0s - loss: 0.0025 - mean_squared_error: 0.0025\n",
      "Epoch 146/150\n",
      " - 0s - loss: 0.0024 - mean_squared_error: 0.0024\n",
      "Epoch 147/150\n",
      " - 0s - loss: 0.0023 - mean_squared_error: 0.0023\n",
      "Epoch 148/150\n",
      " - 0s - loss: 0.0024 - mean_squared_error: 0.0024\n",
      "Epoch 149/150\n",
      " - 1s - loss: 0.0027 - mean_squared_error: 0.0027\n",
      "Epoch 150/150\n",
      " - 0s - loss: 0.0023 - mean_squared_error: 0.0023\n"
     ]
    },
    {
     "data": {
      "text/plain": [
       "<keras.callbacks.History at 0x16ec6630>"
      ]
     },
     "execution_count": 40,
     "metadata": {},
     "output_type": "execute_result"
    }
   ],
   "source": [
    "model.fit(trainX,trainY,epochs=150,verbose=2,batch_size=1)"
   ]
  },
  {
   "cell_type": "code",
   "execution_count": 41,
   "metadata": {
    "collapsed": true
   },
   "outputs": [],
   "source": [
    "trainPredict=model.predict(trainX)\n",
    "testPredict=model.predict(testX)"
   ]
  },
  {
   "cell_type": "code",
   "execution_count": 263,
   "metadata": {
    "collapsed": false
   },
   "outputs": [
    {
     "data": {
      "text/plain": [
       "array([[0.02427245],\n",
       "       [0.04604151],\n",
       "       [0.07286955],\n",
       "       [0.07335056],\n",
       "       [0.05008391]], dtype=float32)"
      ]
     },
     "execution_count": 263,
     "metadata": {},
     "output_type": "execute_result"
    }
   ],
   "source": [
    "trainPredict[0:5]"
   ]
  },
  {
   "cell_type": "code",
   "execution_count": 264,
   "metadata": {
    "collapsed": false
   },
   "outputs": [
    {
     "data": {
      "text/plain": [
       "array([[0.46068513],\n",
       "       [0.4915492 ],\n",
       "       [0.44804233],\n",
       "       [0.5353711 ],\n",
       "       [0.52308655]], dtype=float32)"
      ]
     },
     "execution_count": 264,
     "metadata": {},
     "output_type": "execute_result"
    }
   ],
   "source": [
    "testPredict[0:5]"
   ]
  },
  {
   "cell_type": "code",
   "execution_count": 42,
   "metadata": {
    "collapsed": false
   },
   "outputs": [
    {
     "name": "stderr",
     "output_type": "stream",
     "text": [
      "C:\\Users\\Acer\\Anaconda3\\lib\\site-packages\\sklearn\\preprocessing\\data.py:374: DeprecationWarning: Passing 1d arrays as data is deprecated in 0.17 and will raise ValueError in 0.19. Reshape your data either using X.reshape(-1, 1) if your data has a single feature or X.reshape(1, -1) if it contains a single sample.\n",
      "  warnings.warn(DEPRECATION_MSG_1D, DeprecationWarning)\n",
      "C:\\Users\\Acer\\Anaconda3\\lib\\site-packages\\sklearn\\preprocessing\\data.py:374: DeprecationWarning: Passing 1d arrays as data is deprecated in 0.17 and will raise ValueError in 0.19. Reshape your data either using X.reshape(-1, 1) if your data has a single feature or X.reshape(1, -1) if it contains a single sample.\n",
      "  warnings.warn(DEPRECATION_MSG_1D, DeprecationWarning)\n"
     ]
    }
   ],
   "source": [
    "trainPredict=scaler.inverse_transform(trainPredict)\n",
    "testPredict=scaler.inverse_transform(testPredict)\n",
    "trainYI=scaler.inverse_transform(trainY)\n",
    "testYI=scaler.inverse_transform(testY)"
   ]
  },
  {
   "cell_type": "code",
   "execution_count": 266,
   "metadata": {
    "collapsed": false
   },
   "outputs": [
    {
     "data": {
      "text/plain": [
       "array([[116.573135],\n",
       "       [127.8495  ],\n",
       "       [141.74641 ],\n",
       "       [141.9956  ],\n",
       "       [129.94347 ]], dtype=float32)"
      ]
     },
     "execution_count": 266,
     "metadata": {},
     "output_type": "execute_result"
    }
   ],
   "source": [
    "trainPredict[0:5]"
   ]
  },
  {
   "cell_type": "code",
   "execution_count": 267,
   "metadata": {
    "collapsed": false
   },
   "outputs": [
    {
     "data": {
      "text/plain": [
       "array([135., 148., 148., 136., 119., 104., 118.], dtype=float32)"
      ]
     },
     "execution_count": 267,
     "metadata": {},
     "output_type": "execute_result"
    }
   ],
   "source": [
    "trainYI[0:7]"
   ]
  },
  {
   "cell_type": "code",
   "execution_count": 268,
   "metadata": {
    "collapsed": false
   },
   "outputs": [
    {
     "data": {
      "text/plain": [
       "(109,)"
      ]
     },
     "execution_count": 268,
     "metadata": {},
     "output_type": "execute_result"
    }
   ],
   "source": [
    "trainY.shape"
   ]
  },
  {
   "cell_type": "code",
   "execution_count": 269,
   "metadata": {
    "collapsed": false
   },
   "outputs": [
    {
     "data": {
      "text/plain": [
       "(109, 1)"
      ]
     },
     "execution_count": 269,
     "metadata": {},
     "output_type": "execute_result"
    }
   ],
   "source": [
    "trainPredict.shape"
   ]
  },
  {
   "cell_type": "code",
   "execution_count": 43,
   "metadata": {
    "collapsed": false
   },
   "outputs": [
    {
     "name": "stdout",
     "output_type": "stream",
     "text": [
      "Score of RMSE train : 24.588420867919922\n"
     ]
    }
   ],
   "source": [
    "print (\"Score of RMSE train : {}\".format(np.sqrt(mean_squared_error(trainYI,np.squeeze(trainPredict)))))"
   ]
  },
  {
   "cell_type": "code",
   "execution_count": 44,
   "metadata": {
    "collapsed": false
   },
   "outputs": [
    {
     "data": {
      "image/png": "[encoded data removed]",
      "text/plain": [
       "<matplotlib.figure.Figure at 0x17c556a0>"
      ]
     },
     "metadata": {},
     "output_type": "display_data"
    }
   ],
   "source": [
    "plt.plot(trainYI,c=\"blue\",label=\"Actual\")\n",
    "plt.plot(trainPredict,c=\"red\",label=\"Predicted\")\n",
    "plt.legend()\n",
    "plt.show()"
   ]
  },
  {
   "cell_type": "code",
   "execution_count": 45,
   "metadata": {
    "collapsed": false
   },
   "outputs": [
    {
     "data": {
      "text/plain": [
       "array([360.     , 342.     , 406.     , 395.99997, 420.     ],\n",
       "      dtype=float32)"
      ]
     },
     "execution_count": 45,
     "metadata": {},
     "output_type": "execute_result"
    }
   ],
   "source": [
    "testYI[0:5]"
   ]
  },
  {
   "cell_type": "code",
   "execution_count": 46,
   "metadata": {
    "collapsed": false
   },
   "outputs": [
    {
     "data": {
      "text/plain": [
       "array([[377.6777 ],\n",
       "       [382.9135 ],\n",
       "       [359.37106],\n",
       "       [409.6341 ],\n",
       "       [389.41415],\n",
       "       [423.72607]], dtype=float32)"
      ]
     },
     "execution_count": 46,
     "metadata": {},
     "output_type": "execute_result"
    }
   ],
   "source": [
    "testPredict[0:6]"
   ]
  },
  {
   "cell_type": "code",
   "execution_count": 47,
   "metadata": {
    "collapsed": false
   },
   "outputs": [
    {
     "data": {
      "image/png": "[encoded data removed]",
      "text/plain": [
       "<matplotlib.figure.Figure at 0x17f636a0>"
      ]
     },
     "metadata": {},
     "output_type": "display_data"
    }
   ],
   "source": [
    "plt.plot(testYI,c=\"blue\",label=\"Actual\")\n",
    "plt.plot(testPredict,c=\"red\",label=\"Predicted\")\n",
    "plt.legend()\n",
    "plt.show()"
   ]
  },
  {
   "cell_type": "code",
   "execution_count": 48,
   "metadata": {
    "collapsed": false
   },
   "outputs": [
    {
     "name": "stdout",
     "output_type": "stream",
     "text": [
      "Score of RMSE train : 49.78209686279297\n"
     ]
    }
   ],
   "source": [
    "print (\"Score of RMSE train : {}\".format(np.sqrt(mean_squared_error(testYI,np.squeeze(testPredict)))))"
   ]
  },
  {
   "cell_type": "code",
   "execution_count": null,
   "metadata": {
    "collapsed": true
   },
   "outputs": [],
   "source": []
  }
 ],
 "metadata": {
  "kernelspec": {
   "display_name": "Python 3",
   "language": "python",
   "name": "python3"
  },
  "language_info": {
   "codemirror_mode": {
    "name": "ipython",
    "version": 3
   },
   "file_extension": ".py",
   "mimetype": "text/x-python",
   "name": "python",
   "nbconvert_exporter": "python",
   "pygments_lexer": "ipython3",
   "version": "3.6.0"
  }
 },
 "nbformat": 4,
 "nbformat_minor": 2
}
