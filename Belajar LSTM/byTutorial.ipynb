{
 "cells": [
  {
   "cell_type": "code",
   "execution_count": 1,
   "metadata": {
    "collapsed": false
   },
   "outputs": [
    {
     "name": "stderr",
     "output_type": "stream",
     "text": [
      "Using TensorFlow backend.\n"
     ]
    }
   ],
   "source": [
    "# LSTM for international airline passengers problem with regression framing\n",
    "import numpy\n",
    "import matplotlib.pyplot as plt\n",
    "from pandas import read_csv\n",
    "import math\n",
    "from keras.models import Sequential\n",
    "from keras.layers import Dense\n",
    "from keras.layers import LSTM\n",
    "from sklearn.preprocessing import MinMaxScaler\n",
    "from sklearn.metrics import mean_squared_error"
   ]
  },
  {
   "cell_type": "code",
   "execution_count": 2,
   "metadata": {
    "collapsed": true
   },
   "outputs": [],
   "source": [
    "def create_dataset(dataset, look_back=1):\n",
    "\tdataX, dataY = [], []\n",
    "\tfor i in range(len(dataset)-look_back-1):\n",
    "\t\ta = dataset[i:(i+look_back), 0]\n",
    "\t\tdataX.append(a)\n",
    "\t\tdataY.append(dataset[i + look_back, 0])\n",
    "\treturn numpy.array(dataX), numpy.array(dataY)"
   ]
  },
  {
   "cell_type": "code",
   "execution_count": 3,
   "metadata": {
    "collapsed": true
   },
   "outputs": [],
   "source": [
    "numpy.random.seed(7)\n",
    "# load the dataset\n",
    "dataframe = read_csv('international-airline-passengers.csv', usecols=[1], engine='python', skipfooter=3)\n",
    "dataset = dataframe.values\n",
    "dataset = dataset.astype('float32')"
   ]
  },
  {
   "cell_type": "code",
   "execution_count": 22,
   "metadata": {
    "collapsed": true
   },
   "outputs": [],
   "source": [
    "scaler = MinMaxScaler(feature_range=(0, 1))\n",
    "dataset = scaler.fit_transform(dataset)\n",
    "# split into train and test sets\n",
    "train_size = int(len(dataset) * 0.8)\n",
    "test_size = len(dataset) - train_size\n",
    "train, test = dataset[0:train_size,:], dataset[train_size:len(dataset),:]"
   ]
  },
  {
   "cell_type": "code",
   "execution_count": 23,
   "metadata": {
    "collapsed": false
   },
   "outputs": [
    {
     "data": {
      "text/plain": [
       "(115, 1)"
      ]
     },
     "execution_count": 23,
     "metadata": {},
     "output_type": "execute_result"
    }
   ],
   "source": [
    "train.shape"
   ]
  },
  {
   "cell_type": "code",
   "execution_count": 24,
   "metadata": {
    "collapsed": false
   },
   "outputs": [
    {
     "data": {
      "text/plain": [
       "(29, 1)"
      ]
     },
     "execution_count": 24,
     "metadata": {},
     "output_type": "execute_result"
    }
   ],
   "source": [
    "test.shape"
   ]
  },
  {
   "cell_type": "code",
   "execution_count": 25,
   "metadata": {
    "collapsed": true
   },
   "outputs": [],
   "source": [
    "look_back = 1\n",
    "trainX, trainY = create_dataset(train, look_back)\n",
    "testX, testY = create_dataset(test, look_back)"
   ]
  },
  {
   "cell_type": "code",
   "execution_count": 26,
   "metadata": {
    "collapsed": false
   },
   "outputs": [
    {
     "data": {
      "text/plain": [
       "(113, 1)"
      ]
     },
     "execution_count": 26,
     "metadata": {},
     "output_type": "execute_result"
    }
   ],
   "source": [
    "trainX.shape"
   ]
  },
  {
   "cell_type": "code",
   "execution_count": 28,
   "metadata": {
    "collapsed": false
   },
   "outputs": [
    {
     "data": {
      "text/plain": [
       "array([[0.01544401],\n",
       "       [0.02702703],\n",
       "       [0.05405405],\n",
       "       [0.04826255],\n",
       "       [0.03281853],\n",
       "       [0.05984557]], dtype=float32)"
      ]
     },
     "execution_count": 28,
     "metadata": {},
     "output_type": "execute_result"
    }
   ],
   "source": [
    "trainX[0:6]"
   ]
  },
  {
   "cell_type": "code",
   "execution_count": 27,
   "metadata": {
    "collapsed": false
   },
   "outputs": [
    {
     "data": {
      "text/plain": [
       "(113,)"
      ]
     },
     "execution_count": 27,
     "metadata": {},
     "output_type": "execute_result"
    }
   ],
   "source": [
    "trainY.shape"
   ]
  },
  {
   "cell_type": "code",
   "execution_count": 29,
   "metadata": {
    "collapsed": false
   },
   "outputs": [
    {
     "data": {
      "text/plain": [
       "array([0.02702703, 0.05405405, 0.04826255, 0.03281853, 0.05984557],\n",
       "      dtype=float32)"
      ]
     },
     "execution_count": 29,
     "metadata": {},
     "output_type": "execute_result"
    }
   ],
   "source": [
    "trainY[0:5]"
   ]
  },
  {
   "cell_type": "code",
   "execution_count": 33,
   "metadata": {
    "collapsed": true
   },
   "outputs": [],
   "source": [
    "# reshape input to be [samples, time steps, features]\n",
    "trainX = numpy.reshape(trainX, (trainX.shape[0], 1, trainX.shape[1]))\n",
    "testX = numpy.reshape(testX, (testX.shape[0], 1, testX.shape[1]))"
   ]
  },
  {
   "cell_type": "code",
   "execution_count": 31,
   "metadata": {
    "collapsed": true
   },
   "outputs": [],
   "source": [
    "model = Sequential()\n",
    "model.add(LSTM(4, input_shape=(1, look_back)))\n",
    "model.add(Dense(1))\n",
    "model.compile(loss='mean_squared_error', optimizer='adam',metrics=['mean_squared_error'])"
   ]
  },
  {
   "cell_type": "code",
   "execution_count": 34,
   "metadata": {
    "collapsed": false
   },
   "outputs": [
    {
     "name": "stdout",
     "output_type": "stream",
     "text": [
      "Epoch 1/100\n",
      " - 3s - loss: 0.0387 - mean_squared_error: 0.0387\n",
      "Epoch 2/100\n",
      " - 1s - loss: 0.0164 - mean_squared_error: 0.0164\n",
      "Epoch 3/100\n",
      " - 1s - loss: 0.0129 - mean_squared_error: 0.0129\n",
      "Epoch 4/100\n",
      " - 1s - loss: 0.0114 - mean_squared_error: 0.0114\n",
      "Epoch 5/100\n",
      " - 1s - loss: 0.0100 - mean_squared_error: 0.0100\n",
      "Epoch 6/100\n",
      " - 1s - loss: 0.0086 - mean_squared_error: 0.0086\n",
      "Epoch 7/100\n",
      " - 1s - loss: 0.0073 - mean_squared_error: 0.0073\n",
      "Epoch 8/100\n",
      " - 1s - loss: 0.0063 - mean_squared_error: 0.0063\n",
      "Epoch 9/100\n",
      " - 1s - loss: 0.0052 - mean_squared_error: 0.0052\n",
      "Epoch 10/100\n",
      " - 1s - loss: 0.0045 - mean_squared_error: 0.0045\n",
      "Epoch 11/100\n",
      " - 1s - loss: 0.0038 - mean_squared_error: 0.0038\n",
      "Epoch 12/100\n",
      " - 1s - loss: 0.0034 - mean_squared_error: 0.0034\n",
      "Epoch 13/100\n",
      " - 1s - loss: 0.0032 - mean_squared_error: 0.0032\n",
      "Epoch 14/100\n",
      " - 1s - loss: 0.0029 - mean_squared_error: 0.0029\n",
      "Epoch 15/100\n",
      " - 1s - loss: 0.0026 - mean_squared_error: 0.0026\n",
      "Epoch 16/100\n",
      " - 1s - loss: 0.0027 - mean_squared_error: 0.0027\n",
      "Epoch 17/100\n",
      " - 1s - loss: 0.0027 - mean_squared_error: 0.0027\n",
      "Epoch 18/100\n",
      " - 1s - loss: 0.0027 - mean_squared_error: 0.0027\n",
      "Epoch 19/100\n",
      " - 1s - loss: 0.0027 - mean_squared_error: 0.0027\n",
      "Epoch 20/100\n",
      " - 1s - loss: 0.0027 - mean_squared_error: 0.0027\n",
      "Epoch 21/100\n",
      " - 1s - loss: 0.0026 - mean_squared_error: 0.0026\n",
      "Epoch 22/100\n",
      " - 1s - loss: 0.0027 - mean_squared_error: 0.0027\n",
      "Epoch 23/100\n",
      " - 1s - loss: 0.0027 - mean_squared_error: 0.0027\n",
      "Epoch 24/100\n",
      " - 1s - loss: 0.0027 - mean_squared_error: 0.0027\n",
      "Epoch 25/100\n",
      " - 1s - loss: 0.0027 - mean_squared_error: 0.0027\n",
      "Epoch 26/100\n",
      " - 1s - loss: 0.0026 - mean_squared_error: 0.0026\n",
      "Epoch 27/100\n",
      " - 1s - loss: 0.0027 - mean_squared_error: 0.0027\n",
      "Epoch 28/100\n",
      " - 1s - loss: 0.0027 - mean_squared_error: 0.0027\n",
      "Epoch 29/100\n",
      " - 1s - loss: 0.0025 - mean_squared_error: 0.0025\n",
      "Epoch 30/100\n",
      " - 1s - loss: 0.0027 - mean_squared_error: 0.0027\n",
      "Epoch 31/100\n",
      " - 1s - loss: 0.0026 - mean_squared_error: 0.0026\n",
      "Epoch 32/100\n",
      " - 1s - loss: 0.0027 - mean_squared_error: 0.0027\n",
      "Epoch 33/100\n",
      " - 1s - loss: 0.0026 - mean_squared_error: 0.0026\n",
      "Epoch 34/100\n",
      " - 1s - loss: 0.0027 - mean_squared_error: 0.0027\n",
      "Epoch 35/100\n",
      " - 1s - loss: 0.0027 - mean_squared_error: 0.0027\n",
      "Epoch 36/100\n",
      " - 1s - loss: 0.0027 - mean_squared_error: 0.0027\n",
      "Epoch 37/100\n",
      " - 1s - loss: 0.0026 - mean_squared_error: 0.0026\n",
      "Epoch 38/100\n",
      " - 1s - loss: 0.0027 - mean_squared_error: 0.0027\n",
      "Epoch 39/100\n",
      " - 1s - loss: 0.0025 - mean_squared_error: 0.0025\n",
      "Epoch 40/100\n",
      " - 0s - loss: 0.0026 - mean_squared_error: 0.0026\n",
      "Epoch 41/100\n",
      " - 0s - loss: 0.0026 - mean_squared_error: 0.0026\n",
      "Epoch 42/100\n",
      " - 0s - loss: 0.0027 - mean_squared_error: 0.0027\n",
      "Epoch 43/100\n",
      " - 0s - loss: 0.0026 - mean_squared_error: 0.0026\n",
      "Epoch 44/100\n",
      " - 0s - loss: 0.0026 - mean_squared_error: 0.0026\n",
      "Epoch 45/100\n",
      " - 1s - loss: 0.0026 - mean_squared_error: 0.0026\n",
      "Epoch 46/100\n",
      " - 0s - loss: 0.0027 - mean_squared_error: 0.0027\n",
      "Epoch 47/100\n",
      " - 0s - loss: 0.0026 - mean_squared_error: 0.0026\n",
      "Epoch 48/100\n",
      " - 1s - loss: 0.0027 - mean_squared_error: 0.0027\n",
      "Epoch 49/100\n",
      " - 1s - loss: 0.0027 - mean_squared_error: 0.0027\n",
      "Epoch 50/100\n",
      " - 1s - loss: 0.0026 - mean_squared_error: 0.0026\n",
      "Epoch 51/100\n",
      " - 1s - loss: 0.0026 - mean_squared_error: 0.0026\n",
      "Epoch 52/100\n",
      " - 1s - loss: 0.0027 - mean_squared_error: 0.0027\n",
      "Epoch 53/100\n",
      " - 1s - loss: 0.0027 - mean_squared_error: 0.0027\n",
      "Epoch 54/100\n",
      " - 1s - loss: 0.0026 - mean_squared_error: 0.0026\n",
      "Epoch 55/100\n",
      " - 1s - loss: 0.0027 - mean_squared_error: 0.0027\n",
      "Epoch 56/100\n",
      " - 1s - loss: 0.0027 - mean_squared_error: 0.0027\n",
      "Epoch 57/100\n",
      " - 1s - loss: 0.0027 - mean_squared_error: 0.0027\n",
      "Epoch 58/100\n",
      " - 0s - loss: 0.0027 - mean_squared_error: 0.0027\n",
      "Epoch 59/100\n",
      " - 1s - loss: 0.0026 - mean_squared_error: 0.0026\n",
      "Epoch 60/100\n",
      " - 1s - loss: 0.0025 - mean_squared_error: 0.0025\n",
      "Epoch 61/100\n",
      " - 1s - loss: 0.0026 - mean_squared_error: 0.0026\n",
      "Epoch 62/100\n",
      " - 0s - loss: 0.0026 - mean_squared_error: 0.0026\n",
      "Epoch 63/100\n",
      " - 1s - loss: 0.0026 - mean_squared_error: 0.0026\n",
      "Epoch 64/100\n",
      " - 1s - loss: 0.0026 - mean_squared_error: 0.0026\n",
      "Epoch 65/100\n",
      " - 1s - loss: 0.0027 - mean_squared_error: 0.0027\n",
      "Epoch 66/100\n",
      " - 1s - loss: 0.0028 - mean_squared_error: 0.0028\n",
      "Epoch 67/100\n",
      " - 0s - loss: 0.0026 - mean_squared_error: 0.0026\n",
      "Epoch 68/100\n",
      " - 0s - loss: 0.0026 - mean_squared_error: 0.0026\n",
      "Epoch 69/100\n",
      " - 1s - loss: 0.0027 - mean_squared_error: 0.0027\n",
      "Epoch 70/100\n",
      " - 0s - loss: 0.0026 - mean_squared_error: 0.0026\n",
      "Epoch 71/100\n",
      " - 0s - loss: 0.0026 - mean_squared_error: 0.0026\n",
      "Epoch 72/100\n",
      " - 0s - loss: 0.0026 - mean_squared_error: 0.0026\n",
      "Epoch 73/100\n",
      " - 0s - loss: 0.0026 - mean_squared_error: 0.0026\n",
      "Epoch 74/100\n",
      " - 0s - loss: 0.0026 - mean_squared_error: 0.0026\n",
      "Epoch 75/100\n",
      " - 0s - loss: 0.0026 - mean_squared_error: 0.0026\n",
      "Epoch 76/100\n",
      " - 0s - loss: 0.0027 - mean_squared_error: 0.0027\n",
      "Epoch 77/100\n",
      " - 0s - loss: 0.0027 - mean_squared_error: 0.0027\n",
      "Epoch 78/100\n",
      " - 0s - loss: 0.0027 - mean_squared_error: 0.0027\n",
      "Epoch 79/100\n",
      " - 0s - loss: 0.0026 - mean_squared_error: 0.0026\n",
      "Epoch 80/100\n",
      " - 0s - loss: 0.0026 - mean_squared_error: 0.0026\n",
      "Epoch 81/100\n",
      " - 0s - loss: 0.0026 - mean_squared_error: 0.0026\n",
      "Epoch 82/100\n",
      " - 0s - loss: 0.0026 - mean_squared_error: 0.0026\n",
      "Epoch 83/100\n",
      " - 0s - loss: 0.0026 - mean_squared_error: 0.0026\n",
      "Epoch 84/100\n",
      " - 0s - loss: 0.0027 - mean_squared_error: 0.0027\n",
      "Epoch 85/100\n",
      " - 0s - loss: 0.0026 - mean_squared_error: 0.0026\n",
      "Epoch 86/100\n",
      " - 0s - loss: 0.0026 - mean_squared_error: 0.0026\n",
      "Epoch 87/100\n",
      " - 0s - loss: 0.0026 - mean_squared_error: 0.0026\n",
      "Epoch 88/100\n",
      " - 0s - loss: 0.0026 - mean_squared_error: 0.0026\n",
      "Epoch 89/100\n",
      " - 0s - loss: 0.0026 - mean_squared_error: 0.0026\n",
      "Epoch 90/100\n",
      " - 0s - loss: 0.0026 - mean_squared_error: 0.0026\n",
      "Epoch 91/100\n",
      " - 0s - loss: 0.0026 - mean_squared_error: 0.0026\n",
      "Epoch 92/100\n",
      " - 0s - loss: 0.0026 - mean_squared_error: 0.0026\n",
      "Epoch 93/100\n",
      " - 0s - loss: 0.0026 - mean_squared_error: 0.0026\n",
      "Epoch 94/100\n",
      " - 0s - loss: 0.0027 - mean_squared_error: 0.0027\n",
      "Epoch 95/100\n",
      " - 0s - loss: 0.0026 - mean_squared_error: 0.0026\n",
      "Epoch 96/100\n",
      " - 0s - loss: 0.0026 - mean_squared_error: 0.0026\n",
      "Epoch 97/100\n",
      " - 0s - loss: 0.0026 - mean_squared_error: 0.0026\n",
      "Epoch 98/100\n",
      " - 0s - loss: 0.0026 - mean_squared_error: 0.0026\n",
      "Epoch 99/100\n",
      " - 0s - loss: 0.0026 - mean_squared_error: 0.0026\n",
      "Epoch 100/100\n",
      " - 1s - loss: 0.0026 - mean_squared_error: 0.0026\n"
     ]
    },
    {
     "data": {
      "text/plain": [
       "<keras.callbacks.History at 0x1b188be0>"
      ]
     },
     "execution_count": 34,
     "metadata": {},
     "output_type": "execute_result"
    }
   ],
   "source": [
    "model.fit(trainX, trainY, epochs=100, batch_size=1, verbose=2)"
   ]
  },
  {
   "cell_type": "code",
   "execution_count": 19,
   "metadata": {
    "collapsed": false
   },
   "outputs": [
    {
     "name": "stderr",
     "output_type": "stream",
     "text": [
      "C:\\Users\\Acer\\Anaconda3\\lib\\site-packages\\sklearn\\preprocessing\\data.py:374: DeprecationWarning: Passing 1d arrays as data is deprecated in 0.17 and will raise ValueError in 0.19. Reshape your data either using X.reshape(-1, 1) if your data has a single feature or X.reshape(1, -1) if it contains a single sample.\n",
      "  warnings.warn(DEPRECATION_MSG_1D, DeprecationWarning)\n",
      "C:\\Users\\Acer\\Anaconda3\\lib\\site-packages\\sklearn\\preprocessing\\data.py:374: DeprecationWarning: Passing 1d arrays as data is deprecated in 0.17 and will raise ValueError in 0.19. Reshape your data either using X.reshape(-1, 1) if your data has a single feature or X.reshape(1, -1) if it contains a single sample.\n",
      "  warnings.warn(DEPRECATION_MSG_1D, DeprecationWarning)\n"
     ]
    }
   ],
   "source": [
    "# make predictions\n",
    "trainPredict = model.predict(trainX)\n",
    "testPredict = model.predict(testX)\n",
    "# invert predictions\n",
    "trainPredict = scaler.inverse_transform(trainPredict)\n",
    "trainYI = scaler.inverse_transform(trainY)\n",
    "testPredict = scaler.inverse_transform(testPredict)\n",
    "testYI = scaler.inverse_transform(testY)"
   ]
  },
  {
   "cell_type": "code",
   "execution_count": 20,
   "metadata": {
    "collapsed": false
   },
   "outputs": [
    {
     "name": "stdout",
     "output_type": "stream",
     "text": [
      "Score of RMSE train : 0.05165375769138336\n"
     ]
    }
   ],
   "source": [
    "print (\"Score of RMSE train : {}\".format(numpy.sqrt(mean_squared_error(trainY,numpy.squeeze(trainPredict)))))"
   ]
  },
  {
   "cell_type": "code",
   "execution_count": 21,
   "metadata": {
    "collapsed": false
   },
   "outputs": [
    {
     "data": {
      "image/png": "[encoded data removed]",
      "text/plain": [
       "<matplotlib.figure.Figure at 0x1cc6eac8>"
      ]
     },
     "metadata": {},
     "output_type": "display_data"
    }
   ],
   "source": [
    "plt.plot(trainYI,c=\"blue\")\n",
    "plt.plot(trainPredict,c=\"red\")\n",
    "plt.show()"
   ]
  },
  {
   "cell_type": "code",
   "execution_count": null,
   "metadata": {
    "collapsed": true
   },
   "outputs": [],
   "source": []
  }
 ],
 "metadata": {
  "kernelspec": {
   "display_name": "Python 3",
   "language": "python",
   "name": "python3"
  },
  "language_info": {
   "codemirror_mode": {
    "name": "ipython",
    "version": 3
   },
   "file_extension": ".py",
   "mimetype": "text/x-python",
   "name": "python",
   "nbconvert_exporter": "python",
   "pygments_lexer": "ipython3",
   "version": "3.6.0"
  }
 },
 "nbformat": 4,
 "nbformat_minor": 2
}
